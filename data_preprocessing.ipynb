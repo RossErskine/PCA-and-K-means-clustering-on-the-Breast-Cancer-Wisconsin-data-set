{
 "cells": [
  {
   "cell_type": "markdown",
   "id": "c8b87db8",
   "metadata": {},
   "source": [
    "### Imports"
   ]
  },
  {
   "cell_type": "code",
   "execution_count": 57,
   "id": "0f4163bf",
   "metadata": {},
   "outputs": [],
   "source": [
    "import pandas as pd\n",
    "import seaborn as sns\n",
    "import matplotlib.pyplot as plt\n",
    "import numpy as np\n",
    "import os\n",
    "import warnings\n",
    "warnings.simplefilter(action='ignore', category=FutureWarning)"
   ]
  },
  {
   "cell_type": "markdown",
   "id": "066ab97a",
   "metadata": {},
   "source": [
    "### Load Data In"
   ]
  },
  {
   "cell_type": "code",
   "execution_count": 58,
   "id": "87a95cc5",
   "metadata": {},
   "outputs": [],
   "source": [
    "## Load the data files into panda dataframes\n",
    "features = [\"Sample code number\",\"Clump Thickness\",\"Uniformity of Cell Size\", \"Uniformity of Cell Shape\", \"Marginal Adhesion\", \"Single Epithelial Cell Size\", \"Bare Nuclei\", \"Bland Chromatin\", \"Normal Nucleoli\", \"Mitoses\", \"Class\"]\n",
    "data_df = pd.read_csv(os.path.join(os.sys.path[0], \"Breast_Cancer/breast-cancer-wisconsin.data\"),delimiter=\",\", names=features, index_col=False)"
   ]
  },
  {
   "cell_type": "markdown",
   "id": "07b66e55",
   "metadata": {},
   "source": [
    "### Inspect Data"
   ]
  },
  {
   "cell_type": "code",
   "execution_count": 59,
   "id": "88f33bee",
   "metadata": {},
   "outputs": [
    {
     "name": "stdout",
     "output_type": "stream",
     "text": [
      "   Sample code number  Clump Thickness  Uniformity of Cell Size  \\\n",
      "0             1000025                5                        1   \n",
      "1             1002945                5                        4   \n",
      "2             1015425                3                        1   \n",
      "3             1016277                6                        8   \n",
      "4             1017023                4                        1   \n",
      "\n",
      "   Uniformity of Cell Shape  Marginal Adhesion  Single Epithelial Cell Size  \\\n",
      "0                         1                  1                            2   \n",
      "1                         4                  5                            7   \n",
      "2                         1                  1                            2   \n",
      "3                         8                  1                            3   \n",
      "4                         1                  3                            2   \n",
      "\n",
      "  Bare Nuclei  Bland Chromatin  Normal Nucleoli  Mitoses  Class  \n",
      "0           1                3                1        1      2  \n",
      "1          10                3                2        1      2  \n",
      "2           2                3                1        1      2  \n",
      "3           4                3                7        1      2  \n",
      "4           1                3                1        1      2  \n"
     ]
    }
   ],
   "source": [
    "## View some data from dataframe\n",
    "print(data_df.head())"
   ]
  },
  {
   "cell_type": "code",
   "execution_count": 60,
   "id": "0a29ac65",
   "metadata": {},
   "outputs": [
    {
     "name": "stdout",
     "output_type": "stream",
     "text": [
      "<class 'pandas.core.frame.DataFrame'>\n",
      "RangeIndex: 699 entries, 0 to 698\n",
      "Data columns (total 11 columns):\n",
      " #   Column                       Non-Null Count  Dtype \n",
      "---  ------                       --------------  ----- \n",
      " 0   Sample code number           699 non-null    int64 \n",
      " 1   Clump Thickness              699 non-null    int64 \n",
      " 2   Uniformity of Cell Size      699 non-null    int64 \n",
      " 3   Uniformity of Cell Shape     699 non-null    int64 \n",
      " 4   Marginal Adhesion            699 non-null    int64 \n",
      " 5   Single Epithelial Cell Size  699 non-null    int64 \n",
      " 6   Bare Nuclei                  699 non-null    object\n",
      " 7   Bland Chromatin              699 non-null    int64 \n",
      " 8   Normal Nucleoli              699 non-null    int64 \n",
      " 9   Mitoses                      699 non-null    int64 \n",
      " 10  Class                        699 non-null    int64 \n",
      "dtypes: int64(10), object(1)\n",
      "memory usage: 60.2+ KB\n",
      "None\n"
     ]
    }
   ],
   "source": [
    "## View information about dataframe\n",
    "print(data_df.info())"
   ]
  },
  {
   "cell_type": "code",
   "execution_count": 61,
   "id": "a660aa22",
   "metadata": {},
   "outputs": [
    {
     "name": "stdout",
     "output_type": "stream",
     "text": [
      "       Sample code number  Clump Thickness  Uniformity of Cell Size  \\\n",
      "count        6.990000e+02       699.000000               699.000000   \n",
      "mean         1.071704e+06         4.417740                 3.134478   \n",
      "std          6.170957e+05         2.815741                 3.051459   \n",
      "min          6.163400e+04         1.000000                 1.000000   \n",
      "25%          8.706885e+05         2.000000                 1.000000   \n",
      "50%          1.171710e+06         4.000000                 1.000000   \n",
      "75%          1.238298e+06         6.000000                 5.000000   \n",
      "max          1.345435e+07        10.000000                10.000000   \n",
      "\n",
      "       Uniformity of Cell Shape  Marginal Adhesion  \\\n",
      "count                699.000000         699.000000   \n",
      "mean                   3.207439           2.806867   \n",
      "std                    2.971913           2.855379   \n",
      "min                    1.000000           1.000000   \n",
      "25%                    1.000000           1.000000   \n",
      "50%                    1.000000           1.000000   \n",
      "75%                    5.000000           4.000000   \n",
      "max                   10.000000          10.000000   \n",
      "\n",
      "       Single Epithelial Cell Size  Bland Chromatin  Normal Nucleoli  \\\n",
      "count                   699.000000       699.000000       699.000000   \n",
      "mean                      3.216023         3.437768         2.866953   \n",
      "std                       2.214300         2.438364         3.053634   \n",
      "min                       1.000000         1.000000         1.000000   \n",
      "25%                       2.000000         2.000000         1.000000   \n",
      "50%                       2.000000         3.000000         1.000000   \n",
      "75%                       4.000000         5.000000         4.000000   \n",
      "max                      10.000000        10.000000        10.000000   \n",
      "\n",
      "          Mitoses       Class  \n",
      "count  699.000000  699.000000  \n",
      "mean     1.589413    2.689557  \n",
      "std      1.715078    0.951273  \n",
      "min      1.000000    2.000000  \n",
      "25%      1.000000    2.000000  \n",
      "50%      1.000000    2.000000  \n",
      "75%      1.000000    4.000000  \n",
      "max     10.000000    4.000000  \n"
     ]
    }
   ],
   "source": [
    "## View basic statistics for each column\n",
    "print(data_df.describe())"
   ]
  },
  {
   "cell_type": "code",
   "execution_count": 62,
   "id": "9142d918",
   "metadata": {},
   "outputs": [
    {
     "name": "stdout",
     "output_type": "stream",
     "text": [
      "2    458\n",
      "4    241\n",
      "Name: Class, dtype: int64\n"
     ]
    },
    {
     "data": {
      "image/png": "[encoded data removed]",
      "text/plain": [
       "<Figure size 432x288 with 1 Axes>"
      ]
     },
     "metadata": {
      "needs_background": "light"
     },
     "output_type": "display_data"
    }
   ],
   "source": [
    "## Check distribution of benign or malignant\n",
    "## 2 for benign, 4 for malignant\n",
    "print(data_df[\"Class\"].value_counts())\n",
    "sns.countplot(x=\"Class\", data=data_df)\n",
    "plt.show()"
   ]
  },
  {
   "cell_type": "markdown",
   "id": "64119ee8",
   "metadata": {},
   "source": [
    "### Clean Data"
   ]
  },
  {
   "cell_type": "code",
   "execution_count": 63,
   "id": "385f0af7",
   "metadata": {},
   "outputs": [],
   "source": [
    "## Drop Sample code number column \n",
    "data_df.drop('Sample code number', inplace=True, axis=1)"
   ]
  },
  {
   "cell_type": "code",
   "execution_count": 64,
   "id": "88180fcb",
   "metadata": {},
   "outputs": [],
   "source": [
    "## Replace all ? values in dataframe with null (as this is what they represent)\n",
    "data_df = data_df.replace('?', np.nan)"
   ]
  },
  {
   "cell_type": "code",
   "execution_count": 65,
   "id": "5ea84fed",
   "metadata": {},
   "outputs": [],
   "source": [
    "## Interpolate to fill in missing values\n",
    "## Use 'pad' method here as this fills with only existing values which avoids data type issues (e.g. int has decimal values etc.)\n",
    "data_df = data_df.interpolate(method ='pad')"
   ]
  },
  {
   "cell_type": "code",
   "execution_count": 66,
   "id": "434a29ff",
   "metadata": {},
   "outputs": [
    {
     "name": "stdout",
     "output_type": "stream",
     "text": [
      "     Clump Thickness  Uniformity of Cell Size  Uniformity of Cell Shape  \\\n",
      "0           0.206788                -0.699494                 -0.742767   \n",
      "1           0.206788                 0.283642                  0.266684   \n",
      "2          -0.503505                -0.699494                 -0.742767   \n",
      "3           0.561934                 1.594490                  1.612618   \n",
      "4          -0.148359                -0.699494                 -0.742767   \n",
      "..               ...                      ...                       ...   \n",
      "694        -0.503505                -0.699494                 -0.742767   \n",
      "695        -0.858651                -0.699494                 -0.742767   \n",
      "696         0.206788                 2.249915                  2.285586   \n",
      "697        -0.148359                 1.594490                  0.939651   \n",
      "698        -0.148359                 1.594490                  1.612618   \n",
      "\n",
      "     Marginal Adhesion  Single Epithelial Cell Size  Bare Nuclei  \\\n",
      "0            -0.632794                    -0.549168    -0.695776   \n",
      "1             0.768071                     1.708882     1.779975   \n",
      "2            -0.632794                    -0.549168    -0.420693   \n",
      "3            -0.632794                    -0.097558     0.129474   \n",
      "4             0.067638                    -0.549168    -0.695776   \n",
      "..                 ...                          ...          ...   \n",
      "694          -0.632794                    -0.097558    -0.420693   \n",
      "695          -0.632794                    -0.549168    -0.695776   \n",
      "696           0.067638                     1.708882    -0.145609   \n",
      "697           0.417854                    -0.097558     0.129474   \n",
      "698           0.768071                     0.354052     0.404558   \n",
      "\n",
      "     Bland Chromatin  Normal Nucleoli   Mitoses  Class  \n",
      "0          -0.179534        -0.611387 -0.343666    2.0  \n",
      "1          -0.179534        -0.283909 -0.343666    2.0  \n",
      "2          -0.179534        -0.611387 -0.343666    2.0  \n",
      "3          -0.179534         1.353485 -0.343666    2.0  \n",
      "4          -0.179534        -0.611387 -0.343666    2.0  \n",
      "..               ...              ...       ...    ...  \n",
      "694        -0.999756        -0.611387 -0.343666    2.0  \n",
      "695        -0.999756        -0.611387 -0.343666    2.0  \n",
      "696         1.871021         2.335921  0.239398    4.0  \n",
      "697         2.691243         1.026006 -0.343666    4.0  \n",
      "698         2.691243         0.371049 -0.343666    4.0  \n",
      "\n",
      "[699 rows x 10 columns]\n"
     ]
    }
   ],
   "source": [
    "## Normalise the data using pandas, only normalise feature columns (specified)\n",
    "data_df_norm = data_df.copy()\n",
    "data_df_norm = data_df_norm_mean.astype(float)\n",
    "\n",
    "col_names = [\"Clump Thickness\",\"Uniformity of Cell Size\", \"Uniformity of Cell Shape\", \"Marginal Adhesion\", \"Single Epithelial Cell Size\", \"Bare Nuclei\", \"Bland Chromatin\", \"Normal Nucleoli\", \"Mitoses\"]\n",
    "\n",
    "norm_feat = data_df_norm[col_names]\n",
    "norm_feat=(norm_feat-norm_feat.mean())/norm_feat.std()\n",
    "data_df_norm[col_names] = norm_feat\n",
    "\n",
    "print(data_df_norm)"
   ]
  },
  {
   "cell_type": "markdown",
   "id": "bd955717",
   "metadata": {},
   "source": [
    "### Save the data"
   ]
  },
  {
   "cell_type": "code",
   "execution_count": 67,
   "id": "72379480",
   "metadata": {},
   "outputs": [],
   "source": [
    "data_df.to_csv(\"./preprocessed_data/data.csv\", index=False)\n",
    "data_df_norm.to_csv(\"./preprocessed_data/norm_data_standardized.csv\", index=False)"
   ]
  }
 ],
 "metadata": {
  "kernelspec": {
   "display_name": "Python [conda env:MachineLearning] *",
   "language": "python",
   "name": "conda-env-MachineLearning-py"
  },
  "language_info": {
   "codemirror_mode": {
    "name": "ipython",
    "version": 3
   },
   "file_extension": ".py",
   "mimetype": "text/x-python",
   "name": "python",
   "nbconvert_exporter": "python",
   "pygments_lexer": "ipython3",
   "version": "3.9.13"
  }
 },
 "nbformat": 4,
 "nbformat_minor": 5
}

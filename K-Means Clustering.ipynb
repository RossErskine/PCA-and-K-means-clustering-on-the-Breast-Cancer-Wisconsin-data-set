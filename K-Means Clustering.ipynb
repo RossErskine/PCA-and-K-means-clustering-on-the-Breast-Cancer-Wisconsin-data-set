{
 "cells": [
  {
   "cell_type": "code",
   "execution_count": 1,
   "id": "221a2ab2",
   "metadata": {},
   "outputs": [],
   "source": [
    "import numpy as np\n",
    "import pandas as pd\n",
    "import matplotlib.pyplot as plt\n",
    "import plotly.express as px\n",
    "import plotly.graph_objects as go\n",
    "from sklearn import cluster\n",
    "import os"
   ]
  },
  {
   "cell_type": "code",
   "execution_count": 92,
   "id": "cfc63790",
   "metadata": {},
   "outputs": [
    {
     "data": {
      "text/html": [
       "<div>\n",
       "<style scoped>\n",
       "    .dataframe tbody tr th:only-of-type {\n",
       "        vertical-align: middle;\n",
       "    }\n",
       "\n",
       "    .dataframe tbody tr th {\n",
       "        vertical-align: top;\n",
       "    }\n",
       "\n",
       "    .dataframe thead th {\n",
       "        text-align: right;\n",
       "    }\n",
       "</style>\n",
       "<table border=\"1\" class=\"dataframe\">\n",
       "  <thead>\n",
       "    <tr style=\"text-align: right;\">\n",
       "      <th></th>\n",
       "      <th>Clump Thickness</th>\n",
       "      <th>Uniformity of Cell Size</th>\n",
       "      <th>Uniformity of Cell Shape</th>\n",
       "      <th>Marginal Adhesion</th>\n",
       "      <th>Single Epithelial Cell Size</th>\n",
       "      <th>Bare Nuclei</th>\n",
       "      <th>Bland Chromatin</th>\n",
       "      <th>Normal Nucleoli</th>\n",
       "      <th>Mitoses</th>\n",
       "      <th>Class</th>\n",
       "    </tr>\n",
       "  </thead>\n",
       "  <tbody>\n",
       "    <tr>\n",
       "      <th>0</th>\n",
       "      <td>0.206788</td>\n",
       "      <td>-0.699494</td>\n",
       "      <td>-0.742767</td>\n",
       "      <td>-0.632794</td>\n",
       "      <td>-0.549168</td>\n",
       "      <td>-0.695776</td>\n",
       "      <td>-0.179534</td>\n",
       "      <td>-0.611387</td>\n",
       "      <td>-0.343666</td>\n",
       "      <td>2.0</td>\n",
       "    </tr>\n",
       "    <tr>\n",
       "      <th>1</th>\n",
       "      <td>0.206788</td>\n",
       "      <td>0.283642</td>\n",
       "      <td>0.266684</td>\n",
       "      <td>0.768071</td>\n",
       "      <td>1.708882</td>\n",
       "      <td>1.779975</td>\n",
       "      <td>-0.179534</td>\n",
       "      <td>-0.283909</td>\n",
       "      <td>-0.343666</td>\n",
       "      <td>2.0</td>\n",
       "    </tr>\n",
       "    <tr>\n",
       "      <th>2</th>\n",
       "      <td>-0.503505</td>\n",
       "      <td>-0.699494</td>\n",
       "      <td>-0.742767</td>\n",
       "      <td>-0.632794</td>\n",
       "      <td>-0.549168</td>\n",
       "      <td>-0.420693</td>\n",
       "      <td>-0.179534</td>\n",
       "      <td>-0.611387</td>\n",
       "      <td>-0.343666</td>\n",
       "      <td>2.0</td>\n",
       "    </tr>\n",
       "    <tr>\n",
       "      <th>3</th>\n",
       "      <td>0.561934</td>\n",
       "      <td>1.594490</td>\n",
       "      <td>1.612618</td>\n",
       "      <td>-0.632794</td>\n",
       "      <td>-0.097558</td>\n",
       "      <td>0.129474</td>\n",
       "      <td>-0.179534</td>\n",
       "      <td>1.353485</td>\n",
       "      <td>-0.343666</td>\n",
       "      <td>2.0</td>\n",
       "    </tr>\n",
       "    <tr>\n",
       "      <th>4</th>\n",
       "      <td>-0.148359</td>\n",
       "      <td>-0.699494</td>\n",
       "      <td>-0.742767</td>\n",
       "      <td>0.067638</td>\n",
       "      <td>-0.549168</td>\n",
       "      <td>-0.695776</td>\n",
       "      <td>-0.179534</td>\n",
       "      <td>-0.611387</td>\n",
       "      <td>-0.343666</td>\n",
       "      <td>2.0</td>\n",
       "    </tr>\n",
       "  </tbody>\n",
       "</table>\n",
       "</div>"
      ],
      "text/plain": [
       "   Clump Thickness  Uniformity of Cell Size  Uniformity of Cell Shape  \\\n",
       "0         0.206788                -0.699494                 -0.742767   \n",
       "1         0.206788                 0.283642                  0.266684   \n",
       "2        -0.503505                -0.699494                 -0.742767   \n",
       "3         0.561934                 1.594490                  1.612618   \n",
       "4        -0.148359                -0.699494                 -0.742767   \n",
       "\n",
       "   Marginal Adhesion  Single Epithelial Cell Size  Bare Nuclei  \\\n",
       "0          -0.632794                    -0.549168    -0.695776   \n",
       "1           0.768071                     1.708882     1.779975   \n",
       "2          -0.632794                    -0.549168    -0.420693   \n",
       "3          -0.632794                    -0.097558     0.129474   \n",
       "4           0.067638                    -0.549168    -0.695776   \n",
       "\n",
       "   Bland Chromatin  Normal Nucleoli   Mitoses  Class  \n",
       "0        -0.179534        -0.611387 -0.343666    2.0  \n",
       "1        -0.179534        -0.283909 -0.343666    2.0  \n",
       "2        -0.179534        -0.611387 -0.343666    2.0  \n",
       "3        -0.179534         1.353485 -0.343666    2.0  \n",
       "4        -0.179534        -0.611387 -0.343666    2.0  "
      ]
     },
     "execution_count": 92,
     "metadata": {},
     "output_type": "execute_result"
    }
   ],
   "source": [
    "# Load csv file \n",
    "df = pd.read_csv('./preprocessed_data/norm_data_standardized.csv', index_col=False)\n",
    "df.head()"
   ]
  },
  {
   "cell_type": "code",
   "execution_count": 90,
   "id": "dd3e81bc",
   "metadata": {},
   "outputs": [
    {
     "data": {
      "text/html": [
       "<div>\n",
       "<style scoped>\n",
       "    .dataframe tbody tr th:only-of-type {\n",
       "        vertical-align: middle;\n",
       "    }\n",
       "\n",
       "    .dataframe tbody tr th {\n",
       "        vertical-align: top;\n",
       "    }\n",
       "\n",
       "    .dataframe thead th {\n",
       "        text-align: right;\n",
       "    }\n",
       "</style>\n",
       "<table border=\"1\" class=\"dataframe\">\n",
       "  <thead>\n",
       "    <tr style=\"text-align: right;\">\n",
       "      <th></th>\n",
       "      <th>Clump Thickness</th>\n",
       "      <th>Uniformity of Cell Size</th>\n",
       "      <th>Uniformity of Cell Shape</th>\n",
       "      <th>Marginal Adhesion</th>\n",
       "      <th>Single Epithelial Cell Size</th>\n",
       "      <th>Bare Nuclei</th>\n",
       "      <th>Bland Chromatin</th>\n",
       "      <th>Normal Nucleoli</th>\n",
       "      <th>Mitoses</th>\n",
       "      <th>Class</th>\n",
       "    </tr>\n",
       "  </thead>\n",
       "  <tbody>\n",
       "    <tr>\n",
       "      <th>694</th>\n",
       "      <td>-0.503505</td>\n",
       "      <td>-0.699494</td>\n",
       "      <td>-0.742767</td>\n",
       "      <td>-0.632794</td>\n",
       "      <td>-0.097558</td>\n",
       "      <td>-0.420693</td>\n",
       "      <td>-0.999756</td>\n",
       "      <td>-0.611387</td>\n",
       "      <td>-0.343666</td>\n",
       "      <td>2.0</td>\n",
       "    </tr>\n",
       "    <tr>\n",
       "      <th>695</th>\n",
       "      <td>-0.858651</td>\n",
       "      <td>-0.699494</td>\n",
       "      <td>-0.742767</td>\n",
       "      <td>-0.632794</td>\n",
       "      <td>-0.549168</td>\n",
       "      <td>-0.695776</td>\n",
       "      <td>-0.999756</td>\n",
       "      <td>-0.611387</td>\n",
       "      <td>-0.343666</td>\n",
       "      <td>2.0</td>\n",
       "    </tr>\n",
       "    <tr>\n",
       "      <th>696</th>\n",
       "      <td>0.206788</td>\n",
       "      <td>2.249915</td>\n",
       "      <td>2.285586</td>\n",
       "      <td>0.067638</td>\n",
       "      <td>1.708882</td>\n",
       "      <td>-0.145609</td>\n",
       "      <td>1.871021</td>\n",
       "      <td>2.335921</td>\n",
       "      <td>0.239398</td>\n",
       "      <td>4.0</td>\n",
       "    </tr>\n",
       "    <tr>\n",
       "      <th>697</th>\n",
       "      <td>-0.148359</td>\n",
       "      <td>1.594490</td>\n",
       "      <td>0.939651</td>\n",
       "      <td>0.417854</td>\n",
       "      <td>-0.097558</td>\n",
       "      <td>0.129474</td>\n",
       "      <td>2.691243</td>\n",
       "      <td>1.026006</td>\n",
       "      <td>-0.343666</td>\n",
       "      <td>4.0</td>\n",
       "    </tr>\n",
       "    <tr>\n",
       "      <th>698</th>\n",
       "      <td>-0.148359</td>\n",
       "      <td>1.594490</td>\n",
       "      <td>1.612618</td>\n",
       "      <td>0.768071</td>\n",
       "      <td>0.354052</td>\n",
       "      <td>0.404558</td>\n",
       "      <td>2.691243</td>\n",
       "      <td>0.371049</td>\n",
       "      <td>-0.343666</td>\n",
       "      <td>4.0</td>\n",
       "    </tr>\n",
       "  </tbody>\n",
       "</table>\n",
       "</div>"
      ],
      "text/plain": [
       "     Clump Thickness  Uniformity of Cell Size  Uniformity of Cell Shape  \\\n",
       "694        -0.503505                -0.699494                 -0.742767   \n",
       "695        -0.858651                -0.699494                 -0.742767   \n",
       "696         0.206788                 2.249915                  2.285586   \n",
       "697        -0.148359                 1.594490                  0.939651   \n",
       "698        -0.148359                 1.594490                  1.612618   \n",
       "\n",
       "     Marginal Adhesion  Single Epithelial Cell Size  Bare Nuclei  \\\n",
       "694          -0.632794                    -0.097558    -0.420693   \n",
       "695          -0.632794                    -0.549168    -0.695776   \n",
       "696           0.067638                     1.708882    -0.145609   \n",
       "697           0.417854                    -0.097558     0.129474   \n",
       "698           0.768071                     0.354052     0.404558   \n",
       "\n",
       "     Bland Chromatin  Normal Nucleoli   Mitoses  Class  \n",
       "694        -0.999756        -0.611387 -0.343666    2.0  \n",
       "695        -0.999756        -0.611387 -0.343666    2.0  \n",
       "696         1.871021         2.335921  0.239398    4.0  \n",
       "697         2.691243         1.026006 -0.343666    4.0  \n",
       "698         2.691243         0.371049 -0.343666    4.0  "
      ]
     },
     "execution_count": 90,
     "metadata": {},
     "output_type": "execute_result"
    }
   ],
   "source": [
    "df.tail()"
   ]
  },
  {
   "cell_type": "code",
   "execution_count": 93,
   "id": "e257d138",
   "metadata": {},
   "outputs": [
    {
     "data": {
      "text/html": [
       "<div>\n",
       "<style scoped>\n",
       "    .dataframe tbody tr th:only-of-type {\n",
       "        vertical-align: middle;\n",
       "    }\n",
       "\n",
       "    .dataframe tbody tr th {\n",
       "        vertical-align: top;\n",
       "    }\n",
       "\n",
       "    .dataframe thead th {\n",
       "        text-align: right;\n",
       "    }\n",
       "</style>\n",
       "<table border=\"1\" class=\"dataframe\">\n",
       "  <thead>\n",
       "    <tr style=\"text-align: right;\">\n",
       "      <th></th>\n",
       "      <th>Clump Thickness</th>\n",
       "      <th>Uniformity of Cell Size</th>\n",
       "      <th>Uniformity of Cell Shape</th>\n",
       "      <th>Marginal Adhesion</th>\n",
       "      <th>Single Epithelial Cell Size</th>\n",
       "      <th>Bare Nuclei</th>\n",
       "      <th>Bland Chromatin</th>\n",
       "      <th>Normal Nucleoli</th>\n",
       "      <th>Mitoses</th>\n",
       "      <th>Class</th>\n",
       "    </tr>\n",
       "  </thead>\n",
       "  <tbody>\n",
       "    <tr>\n",
       "      <th>0</th>\n",
       "      <td>0.206788</td>\n",
       "      <td>-0.699494</td>\n",
       "      <td>-0.742767</td>\n",
       "      <td>-0.632794</td>\n",
       "      <td>-0.549168</td>\n",
       "      <td>-0.695776</td>\n",
       "      <td>-0.179534</td>\n",
       "      <td>-0.611387</td>\n",
       "      <td>-0.343666</td>\n",
       "      <td>0</td>\n",
       "    </tr>\n",
       "    <tr>\n",
       "      <th>1</th>\n",
       "      <td>0.206788</td>\n",
       "      <td>0.283642</td>\n",
       "      <td>0.266684</td>\n",
       "      <td>0.768071</td>\n",
       "      <td>1.708882</td>\n",
       "      <td>1.779975</td>\n",
       "      <td>-0.179534</td>\n",
       "      <td>-0.283909</td>\n",
       "      <td>-0.343666</td>\n",
       "      <td>0</td>\n",
       "    </tr>\n",
       "    <tr>\n",
       "      <th>2</th>\n",
       "      <td>-0.503505</td>\n",
       "      <td>-0.699494</td>\n",
       "      <td>-0.742767</td>\n",
       "      <td>-0.632794</td>\n",
       "      <td>-0.549168</td>\n",
       "      <td>-0.420693</td>\n",
       "      <td>-0.179534</td>\n",
       "      <td>-0.611387</td>\n",
       "      <td>-0.343666</td>\n",
       "      <td>0</td>\n",
       "    </tr>\n",
       "    <tr>\n",
       "      <th>3</th>\n",
       "      <td>0.561934</td>\n",
       "      <td>1.594490</td>\n",
       "      <td>1.612618</td>\n",
       "      <td>-0.632794</td>\n",
       "      <td>-0.097558</td>\n",
       "      <td>0.129474</td>\n",
       "      <td>-0.179534</td>\n",
       "      <td>1.353485</td>\n",
       "      <td>-0.343666</td>\n",
       "      <td>0</td>\n",
       "    </tr>\n",
       "    <tr>\n",
       "      <th>4</th>\n",
       "      <td>-0.148359</td>\n",
       "      <td>-0.699494</td>\n",
       "      <td>-0.742767</td>\n",
       "      <td>0.067638</td>\n",
       "      <td>-0.549168</td>\n",
       "      <td>-0.695776</td>\n",
       "      <td>-0.179534</td>\n",
       "      <td>-0.611387</td>\n",
       "      <td>-0.343666</td>\n",
       "      <td>0</td>\n",
       "    </tr>\n",
       "  </tbody>\n",
       "</table>\n",
       "</div>"
      ],
      "text/plain": [
       "   Clump Thickness  Uniformity of Cell Size  Uniformity of Cell Shape  \\\n",
       "0         0.206788                -0.699494                 -0.742767   \n",
       "1         0.206788                 0.283642                  0.266684   \n",
       "2        -0.503505                -0.699494                 -0.742767   \n",
       "3         0.561934                 1.594490                  1.612618   \n",
       "4        -0.148359                -0.699494                 -0.742767   \n",
       "\n",
       "   Marginal Adhesion  Single Epithelial Cell Size  Bare Nuclei  \\\n",
       "0          -0.632794                    -0.549168    -0.695776   \n",
       "1           0.768071                     1.708882     1.779975   \n",
       "2          -0.632794                    -0.549168    -0.420693   \n",
       "3          -0.632794                    -0.097558     0.129474   \n",
       "4           0.067638                    -0.549168    -0.695776   \n",
       "\n",
       "   Bland Chromatin  Normal Nucleoli   Mitoses  Class  \n",
       "0        -0.179534        -0.611387 -0.343666      0  \n",
       "1        -0.179534        -0.283909 -0.343666      0  \n",
       "2        -0.179534        -0.611387 -0.343666      0  \n",
       "3        -0.179534         1.353485 -0.343666      0  \n",
       "4        -0.179534        -0.611387 -0.343666      0  "
      ]
     },
     "execution_count": 93,
     "metadata": {},
     "output_type": "execute_result"
    }
   ],
   "source": [
    "df.Class=[1 if each==4.0 else 0 for each in df.Class]\n",
    "df.head()"
   ]
  },
  {
   "cell_type": "code",
   "execution_count": 94,
   "id": "57edd210",
   "metadata": {},
   "outputs": [
    {
     "data": {
      "text/plain": [
       "0      0\n",
       "1      0\n",
       "2      0\n",
       "3      0\n",
       "4      0\n",
       "      ..\n",
       "694    0\n",
       "695    0\n",
       "696    1\n",
       "697    1\n",
       "698    1\n",
       "Name: Class, Length: 699, dtype: int64"
      ]
     },
     "execution_count": 94,
     "metadata": {},
     "output_type": "execute_result"
    }
   ],
   "source": [
    "X = df.drop(['Class'],axis=1)\n",
    "y = df['Class'] \n",
    "y"
   ]
  },
  {
   "cell_type": "code",
   "execution_count": 95,
   "id": "fbb35aca",
   "metadata": {},
   "outputs": [
    {
     "data": {
      "text/html": [
       "<div>\n",
       "<style scoped>\n",
       "    .dataframe tbody tr th:only-of-type {\n",
       "        vertical-align: middle;\n",
       "    }\n",
       "\n",
       "    .dataframe tbody tr th {\n",
       "        vertical-align: top;\n",
       "    }\n",
       "\n",
       "    .dataframe thead th {\n",
       "        text-align: right;\n",
       "    }\n",
       "</style>\n",
       "<table border=\"1\" class=\"dataframe\">\n",
       "  <thead>\n",
       "    <tr style=\"text-align: right;\">\n",
       "      <th></th>\n",
       "      <th>Clump Thickness</th>\n",
       "      <th>Uniformity of Cell Size</th>\n",
       "      <th>Uniformity of Cell Shape</th>\n",
       "      <th>Marginal Adhesion</th>\n",
       "      <th>Single Epithelial Cell Size</th>\n",
       "      <th>Bare Nuclei</th>\n",
       "      <th>Bland Chromatin</th>\n",
       "      <th>Normal Nucleoli</th>\n",
       "      <th>Mitoses</th>\n",
       "    </tr>\n",
       "  </thead>\n",
       "  <tbody>\n",
       "    <tr>\n",
       "      <th>count</th>\n",
       "      <td>6.990000e+02</td>\n",
       "      <td>6.990000e+02</td>\n",
       "      <td>6.990000e+02</td>\n",
       "      <td>6.990000e+02</td>\n",
       "      <td>6.990000e+02</td>\n",
       "      <td>6.990000e+02</td>\n",
       "      <td>6.990000e+02</td>\n",
       "      <td>6.990000e+02</td>\n",
       "      <td>6.990000e+02</td>\n",
       "    </tr>\n",
       "    <tr>\n",
       "      <th>mean</th>\n",
       "      <td>1.917875e-16</td>\n",
       "      <td>1.486651e-16</td>\n",
       "      <td>-9.529811e-18</td>\n",
       "      <td>4.181999e-16</td>\n",
       "      <td>1.874990e-16</td>\n",
       "      <td>1.391352e-15</td>\n",
       "      <td>-1.397706e-16</td>\n",
       "      <td>7.048090e-16</td>\n",
       "      <td>-1.318291e-16</td>\n",
       "    </tr>\n",
       "    <tr>\n",
       "      <th>std</th>\n",
       "      <td>1.000000e+00</td>\n",
       "      <td>1.000000e+00</td>\n",
       "      <td>1.000000e+00</td>\n",
       "      <td>1.000000e+00</td>\n",
       "      <td>1.000000e+00</td>\n",
       "      <td>1.000000e+00</td>\n",
       "      <td>1.000000e+00</td>\n",
       "      <td>1.000000e+00</td>\n",
       "      <td>1.000000e+00</td>\n",
       "    </tr>\n",
       "    <tr>\n",
       "      <th>min</th>\n",
       "      <td>-1.213798e+00</td>\n",
       "      <td>-6.994942e-01</td>\n",
       "      <td>-7.427672e-01</td>\n",
       "      <td>-6.327940e-01</td>\n",
       "      <td>-1.000778e+00</td>\n",
       "      <td>-6.957763e-01</td>\n",
       "      <td>-9.997556e-01</td>\n",
       "      <td>-6.113872e-01</td>\n",
       "      <td>-3.436657e-01</td>\n",
       "    </tr>\n",
       "    <tr>\n",
       "      <th>25%</th>\n",
       "      <td>-8.586514e-01</td>\n",
       "      <td>-6.994942e-01</td>\n",
       "      <td>-7.427672e-01</td>\n",
       "      <td>-6.327940e-01</td>\n",
       "      <td>-5.491681e-01</td>\n",
       "      <td>-6.957763e-01</td>\n",
       "      <td>-5.896446e-01</td>\n",
       "      <td>-6.113872e-01</td>\n",
       "      <td>-3.436657e-01</td>\n",
       "    </tr>\n",
       "    <tr>\n",
       "      <th>50%</th>\n",
       "      <td>-1.483587e-01</td>\n",
       "      <td>-6.994942e-01</td>\n",
       "      <td>-7.427672e-01</td>\n",
       "      <td>-6.327940e-01</td>\n",
       "      <td>-5.491681e-01</td>\n",
       "      <td>-6.957763e-01</td>\n",
       "      <td>-1.795336e-01</td>\n",
       "      <td>-6.113872e-01</td>\n",
       "      <td>-3.436657e-01</td>\n",
       "    </tr>\n",
       "    <tr>\n",
       "      <th>75%</th>\n",
       "      <td>5.619340e-01</td>\n",
       "      <td>6.113541e-01</td>\n",
       "      <td>6.031674e-01</td>\n",
       "      <td>4.178545e-01</td>\n",
       "      <td>3.540519e-01</td>\n",
       "      <td>6.796412e-01</td>\n",
       "      <td>6.406884e-01</td>\n",
       "      <td>3.710488e-01</td>\n",
       "      <td>-3.436657e-01</td>\n",
       "    </tr>\n",
       "    <tr>\n",
       "      <th>max</th>\n",
       "      <td>1.982519e+00</td>\n",
       "      <td>2.249915e+00</td>\n",
       "      <td>2.285586e+00</td>\n",
       "      <td>2.519152e+00</td>\n",
       "      <td>3.063712e+00</td>\n",
       "      <td>1.779975e+00</td>\n",
       "      <td>2.691243e+00</td>\n",
       "      <td>2.335921e+00</td>\n",
       "      <td>4.903909e+00</td>\n",
       "    </tr>\n",
       "  </tbody>\n",
       "</table>\n",
       "</div>"
      ],
      "text/plain": [
       "       Clump Thickness  Uniformity of Cell Size  Uniformity of Cell Shape  \\\n",
       "count     6.990000e+02             6.990000e+02              6.990000e+02   \n",
       "mean      1.917875e-16             1.486651e-16             -9.529811e-18   \n",
       "std       1.000000e+00             1.000000e+00              1.000000e+00   \n",
       "min      -1.213798e+00            -6.994942e-01             -7.427672e-01   \n",
       "25%      -8.586514e-01            -6.994942e-01             -7.427672e-01   \n",
       "50%      -1.483587e-01            -6.994942e-01             -7.427672e-01   \n",
       "75%       5.619340e-01             6.113541e-01              6.031674e-01   \n",
       "max       1.982519e+00             2.249915e+00              2.285586e+00   \n",
       "\n",
       "       Marginal Adhesion  Single Epithelial Cell Size   Bare Nuclei  \\\n",
       "count       6.990000e+02                 6.990000e+02  6.990000e+02   \n",
       "mean        4.181999e-16                 1.874990e-16  1.391352e-15   \n",
       "std         1.000000e+00                 1.000000e+00  1.000000e+00   \n",
       "min        -6.327940e-01                -1.000778e+00 -6.957763e-01   \n",
       "25%        -6.327940e-01                -5.491681e-01 -6.957763e-01   \n",
       "50%        -6.327940e-01                -5.491681e-01 -6.957763e-01   \n",
       "75%         4.178545e-01                 3.540519e-01  6.796412e-01   \n",
       "max         2.519152e+00                 3.063712e+00  1.779975e+00   \n",
       "\n",
       "       Bland Chromatin  Normal Nucleoli       Mitoses  \n",
       "count     6.990000e+02     6.990000e+02  6.990000e+02  \n",
       "mean     -1.397706e-16     7.048090e-16 -1.318291e-16  \n",
       "std       1.000000e+00     1.000000e+00  1.000000e+00  \n",
       "min      -9.997556e-01    -6.113872e-01 -3.436657e-01  \n",
       "25%      -5.896446e-01    -6.113872e-01 -3.436657e-01  \n",
       "50%      -1.795336e-01    -6.113872e-01 -3.436657e-01  \n",
       "75%       6.406884e-01     3.710488e-01 -3.436657e-01  \n",
       "max       2.691243e+00     2.335921e+00  4.903909e+00  "
      ]
     },
     "execution_count": 95,
     "metadata": {},
     "output_type": "execute_result"
    }
   ],
   "source": [
    "X.describe()"
   ]
  },
  {
   "cell_type": "code",
   "execution_count": 96,
   "id": "a8956c4a",
   "metadata": {},
   "outputs": [
    {
     "name": "stdout",
     "output_type": "stream",
     "text": [
      "<class 'pandas.core.frame.DataFrame'>\n",
      "RangeIndex: 699 entries, 0 to 698\n",
      "Data columns (total 9 columns):\n",
      " #   Column                       Non-Null Count  Dtype  \n",
      "---  ------                       --------------  -----  \n",
      " 0   Clump Thickness              699 non-null    float64\n",
      " 1   Uniformity of Cell Size      699 non-null    float64\n",
      " 2   Uniformity of Cell Shape     699 non-null    float64\n",
      " 3   Marginal Adhesion            699 non-null    float64\n",
      " 4   Single Epithelial Cell Size  699 non-null    float64\n",
      " 5   Bare Nuclei                  699 non-null    float64\n",
      " 6   Bland Chromatin              699 non-null    float64\n",
      " 7   Normal Nucleoli              699 non-null    float64\n",
      " 8   Mitoses                      699 non-null    float64\n",
      "dtypes: float64(9)\n",
      "memory usage: 49.3 KB\n"
     ]
    }
   ],
   "source": [
    "X.info()"
   ]
  },
  {
   "cell_type": "code",
   "execution_count": 97,
   "id": "8b49c0cb",
   "metadata": {},
   "outputs": [],
   "source": [
    "# Initialise centroids\n",
    "def initialize_centroids(X,K):\n",
    "    \n",
    "    #Randomize Traininng inidcies\n",
    "    randomized_X = np.random.permutation(X.shape[0])\n",
    "    \n",
    "    #Get the training cluster indicies for number of clusters\n",
    "    centroid_indx = randomized_X[:K]\n",
    "\n",
    "    centroids = X[centroid_indx]\n",
    "    \n",
    "    return centroids"
   ]
  },
  {
   "cell_type": "code",
   "execution_count": 98,
   "id": "b9211144",
   "metadata": {},
   "outputs": [],
   "source": [
    "# Assign points to centroids\n",
    "def assign_points_centroids(X,centroids):\n",
    "    #Expand X dimensions in order to get correct shapes\n",
    "    X = np.expand_dims(X,axis=1)\n",
    "    #Calculate the norm\n",
    "    distance = np.linalg.norm((X - centroids),axis=-1)\n",
    "    #assign clusters to points that minimize our cost\n",
    "    points = np.argmin(distance, axis=1)\n",
    "    return points"
   ]
  },
  {
   "cell_type": "code",
   "execution_count": 99,
   "id": "d55bc744",
   "metadata": {},
   "outputs": [],
   "source": [
    "# Compute mean\n",
    "def compute_mean(X,points,K):\n",
    "    #Intialize empty array to store our centroids\n",
    "    centroids = np.zeros((K, X.shape[1]))\n",
    "    \n",
    "    #Iterate over each cluster and assign it to the mean of it's points\n",
    "    for i in range(K):\n",
    "        centroid_mean = X[points ==i].mean(axis=0)\n",
    "        centroids[i] = centroid_mean\n",
    "    return centroids"
   ]
  },
  {
   "cell_type": "code",
   "execution_count": 100,
   "id": "f5ee7853",
   "metadata": {},
   "outputs": [],
   "source": [
    "# Run k-means\n",
    "def KMeans(X, K, iterations=10):\n",
    "    \n",
    "    #Initialize centroids\n",
    "    centroids= initialize_centroids(X, K) \n",
    "    \n",
    "    #Iterate for specified iterations\n",
    "    for i in range(iterations):\n",
    "        \n",
    "        points = assign_points_centroids(X, centroids)#get points assigned to each cluster\n",
    "\n",
    "        centroids = compute_mean(X, points, K) #update the centroids to the mean of it's points\n",
    "\n",
    "    return centroids,points"
   ]
  },
  {
   "cell_type": "code",
   "execution_count": 101,
   "id": "0842fe57",
   "metadata": {},
   "outputs": [],
   "source": [
    "X = X.values\n",
    "K = 2\n",
    "centroids, points = KMeans(X, K, 10000)"
   ]
  },
  {
   "cell_type": "code",
   "execution_count": 102,
   "id": "68b290b1",
   "metadata": {},
   "outputs": [
    {
     "data": {
      "text/plain": [
       "array([0, 1, 0, 1, 0, 1, 0, 0, 0, 0, 0, 0, 0, 0, 1, 1, 0, 0, 1, 0, 1, 1,\n",
       "       0, 0, 0, 0, 0, 0, 0, 0, 0, 0, 1, 0, 0, 0, 1, 0, 1, 1, 1, 1, 1, 1,\n",
       "       1, 0, 1, 0, 0, 1, 1, 0, 1, 1, 1, 1, 1, 0, 0, 0, 1, 0, 1, 0, 0, 1,\n",
       "       0, 1, 1, 0, 0, 1, 0, 1, 1, 0, 0, 0, 0, 0, 0, 0, 0, 0, 1, 1, 1, 1,\n",
       "       0, 0, 0, 0, 0, 0, 0, 0, 0, 0, 1, 1, 1, 0, 0, 0, 1, 1, 1, 1, 0, 1,\n",
       "       0, 1, 1, 1, 0, 0, 0, 1, 0, 0, 0, 0, 1, 1, 1, 0, 1, 0, 1, 0, 0, 0,\n",
       "       1, 0, 0, 0, 0, 0, 0, 0, 0, 0, 1, 0, 0, 0, 0, 0, 0, 1, 0, 1, 1, 0,\n",
       "       0, 1, 0, 0, 0, 1, 1, 0, 0, 0, 0, 0, 1, 1, 0, 0, 0, 0, 0, 1, 1, 1,\n",
       "       0, 1, 0, 0, 0, 0, 0, 1, 1, 0, 1, 1, 1, 0, 1, 1, 0, 0, 0, 0, 1, 0,\n",
       "       0, 0, 1, 1, 0, 0, 0, 1, 1, 0, 0, 0, 1, 1, 0, 1, 1, 1, 0, 0, 1, 0,\n",
       "       0, 1, 0, 1, 1, 0, 1, 1, 0, 1, 1, 1, 0, 1, 0, 0, 1, 1, 1, 1, 0, 0,\n",
       "       0, 0, 0, 0, 1, 0, 0, 0, 0, 1, 1, 1, 1, 1, 0, 0, 0, 1, 1, 1, 1, 1,\n",
       "       1, 0, 1, 0, 1, 0, 1, 0, 0, 0, 0, 0, 0, 0, 0, 1, 0, 0, 1, 1, 1, 1,\n",
       "       1, 0, 1, 1, 0, 0, 1, 1, 0, 1, 1, 0, 0, 1, 1, 0, 1, 0, 1, 1, 0, 0,\n",
       "       1, 0, 0, 0, 1, 0, 0, 1, 1, 1, 0, 1, 1, 0, 0, 1, 0, 0, 0, 0, 1, 1,\n",
       "       1, 0, 0, 1, 1, 0, 1, 0, 0, 1, 1, 0, 0, 0, 1, 0, 0, 0, 0, 1, 0, 0,\n",
       "       1, 1, 0, 0, 0, 1, 1, 1, 1, 1, 0, 0, 0, 0, 1, 1, 0, 0, 0, 0, 0, 0,\n",
       "       0, 0, 0, 0, 0, 0, 0, 1, 0, 0, 0, 0, 1, 0, 0, 0, 0, 1, 0, 0, 0, 0,\n",
       "       0, 0, 0, 0, 1, 0, 0, 0, 0, 0, 0, 0, 0, 0, 0, 0, 1, 0, 1, 0, 1, 0,\n",
       "       0, 0, 0, 1, 0, 0, 0, 1, 0, 1, 0, 0, 0, 0, 0, 0, 1, 1, 1, 0, 0, 0,\n",
       "       1, 0, 0, 0, 0, 0, 0, 0, 0, 1, 0, 0, 0, 1, 0, 0, 1, 1, 0, 0, 0, 0,\n",
       "       0, 0, 0, 1, 1, 1, 0, 0, 0, 0, 0, 0, 0, 0, 0, 0, 0, 1, 0, 0, 1, 1,\n",
       "       0, 0, 0, 1, 1, 0, 0, 1, 0, 1, 0, 0, 0, 0, 0, 0, 0, 0, 0, 0, 0, 0,\n",
       "       1, 0, 0, 0, 0, 0, 0, 0, 1, 1, 0, 0, 0, 1, 0, 0, 1, 1, 0, 0, 0, 0,\n",
       "       0, 0, 1, 0, 0, 0, 0, 0, 0, 0, 0, 0, 0, 0, 0, 0, 0, 0, 1, 0, 0, 1,\n",
       "       0, 0, 0, 0, 0, 0, 0, 0, 0, 0, 0, 0, 0, 0, 0, 1, 0, 0, 1, 1, 1, 1,\n",
       "       0, 0, 1, 0, 0, 0, 0, 0, 0, 1, 1, 0, 0, 0, 1, 0, 1, 0, 1, 1, 1, 0,\n",
       "       1, 0, 0, 0, 0, 0, 0, 0, 0, 1, 1, 1, 0, 0, 1, 0, 1, 1, 1, 0, 0, 0,\n",
       "       0, 0, 0, 0, 0, 0, 0, 0, 0, 0, 1, 0, 0, 0, 0, 0, 0, 1, 0, 0, 1, 0,\n",
       "       0, 0, 0, 0, 0, 0, 0, 0, 0, 0, 1, 0, 0, 0, 0, 0, 0, 0, 0, 1, 1, 0,\n",
       "       0, 0, 0, 0, 0, 0, 0, 0, 1, 1, 1, 0, 0, 0, 0, 0, 0, 0, 0, 0, 1, 1,\n",
       "       0, 0, 0, 0, 0, 0, 0, 0, 0, 1, 0, 0, 0, 0, 1, 1, 1])"
      ]
     },
     "execution_count": 102,
     "metadata": {},
     "output_type": "execute_result"
    }
   ],
   "source": [
    "points"
   ]
  },
  {
   "cell_type": "code",
   "execution_count": 103,
   "id": "dd33fa33",
   "metadata": {},
   "outputs": [
    {
     "data": {
      "text/plain": [
       "array([0, 0, 0, 0, 0, 1, 0, 0, 0, 0, 0, 0, 1, 0, 1, 1, 0, 0, 1, 0, 1, 1,\n",
       "       0, 1, 0, 1, 0, 0, 0, 0, 0, 0, 1, 0, 0, 0, 1, 0, 1, 1, 0, 1, 1, 1,\n",
       "       1, 0, 1, 0, 0, 1, 1, 1, 1, 1, 1, 1, 1, 1, 1, 1, 1, 0, 1, 1, 0, 1,\n",
       "       0, 1, 1, 0, 0, 1, 0, 1, 1, 0, 0, 0, 0, 0, 0, 0, 0, 0, 1, 1, 1, 1,\n",
       "       0, 0, 0, 0, 0, 0, 0, 0, 0, 0, 1, 1, 1, 1, 0, 1, 1, 1, 1, 1, 0, 1,\n",
       "       0, 1, 1, 1, 0, 0, 0, 1, 0, 0, 0, 0, 1, 1, 1, 0, 1, 0, 1, 0, 0, 0,\n",
       "       1, 0, 0, 0, 0, 0, 0, 0, 0, 0, 1, 0, 0, 0, 1, 0, 0, 1, 0, 1, 1, 0,\n",
       "       0, 1, 0, 0, 0, 1, 1, 0, 0, 0, 0, 0, 1, 1, 0, 0, 0, 0, 0, 1, 1, 1,\n",
       "       0, 1, 0, 1, 0, 0, 0, 1, 1, 0, 1, 1, 1, 0, 1, 1, 0, 0, 0, 0, 0, 0,\n",
       "       0, 0, 1, 1, 0, 0, 0, 1, 1, 0, 0, 0, 1, 1, 0, 1, 1, 1, 0, 0, 1, 0,\n",
       "       0, 1, 1, 1, 1, 0, 1, 1, 0, 1, 1, 1, 0, 1, 0, 0, 1, 1, 1, 1, 0, 0,\n",
       "       0, 0, 0, 0, 1, 1, 0, 0, 0, 1, 0, 1, 1, 1, 0, 0, 0, 0, 1, 1, 1, 1,\n",
       "       1, 0, 1, 1, 1, 0, 1, 0, 1, 1, 0, 0, 0, 0, 0, 1, 0, 0, 1, 1, 1, 1,\n",
       "       1, 0, 1, 1, 0, 0, 1, 1, 0, 1, 0, 0, 0, 1, 1, 0, 1, 0, 1, 1, 0, 0,\n",
       "       1, 0, 0, 0, 1, 0, 0, 0, 1, 1, 0, 0, 1, 0, 0, 1, 0, 0, 1, 0, 1, 1,\n",
       "       1, 0, 0, 1, 1, 0, 1, 0, 0, 1, 1, 0, 0, 0, 1, 0, 0, 0, 1, 1, 0, 0,\n",
       "       0, 1, 0, 0, 1, 1, 1, 1, 1, 1, 0, 0, 0, 0, 1, 1, 0, 0, 0, 0, 0, 0,\n",
       "       0, 0, 0, 0, 0, 0, 0, 1, 0, 0, 0, 0, 1, 0, 0, 0, 0, 1, 0, 0, 0, 0,\n",
       "       0, 0, 0, 0, 1, 0, 0, 0, 0, 0, 0, 0, 0, 0, 0, 0, 1, 0, 1, 0, 1, 0,\n",
       "       0, 0, 0, 1, 0, 0, 0, 1, 0, 1, 0, 0, 0, 0, 0, 0, 0, 1, 1, 0, 0, 0,\n",
       "       1, 0, 0, 0, 0, 0, 0, 0, 0, 1, 0, 0, 0, 1, 0, 1, 1, 1, 0, 0, 0, 0,\n",
       "       0, 0, 0, 1, 1, 1, 0, 0, 0, 0, 0, 0, 0, 0, 0, 0, 0, 1, 0, 0, 1, 1,\n",
       "       0, 0, 0, 1, 1, 1, 0, 1, 0, 1, 0, 0, 0, 0, 0, 0, 0, 0, 0, 0, 0, 0,\n",
       "       1, 0, 0, 0, 0, 0, 0, 0, 1, 1, 0, 0, 0, 1, 0, 0, 1, 1, 0, 0, 0, 0,\n",
       "       0, 0, 1, 0, 0, 0, 0, 0, 0, 0, 0, 0, 0, 0, 0, 0, 0, 0, 1, 0, 0, 1,\n",
       "       0, 0, 0, 0, 0, 0, 0, 0, 0, 0, 0, 0, 0, 0, 0, 1, 0, 0, 1, 1, 1, 1,\n",
       "       0, 0, 1, 0, 0, 0, 0, 0, 0, 1, 1, 0, 0, 0, 1, 0, 1, 0, 1, 1, 1, 0,\n",
       "       1, 0, 0, 0, 0, 0, 0, 0, 0, 1, 1, 1, 0, 0, 1, 0, 1, 1, 1, 0, 0, 0,\n",
       "       0, 0, 0, 0, 0, 0, 0, 0, 0, 0, 1, 0, 0, 0, 0, 0, 0, 1, 0, 0, 1, 0,\n",
       "       0, 0, 0, 0, 0, 0, 0, 0, 0, 0, 1, 0, 0, 0, 0, 0, 0, 0, 0, 0, 1, 0,\n",
       "       0, 0, 0, 0, 0, 0, 0, 0, 1, 1, 1, 0, 0, 0, 0, 0, 0, 0, 0, 0, 1, 1,\n",
       "       0, 0, 0, 0, 0, 0, 0, 0, 0, 1, 0, 0, 0, 0, 1, 1, 1])"
      ]
     },
     "execution_count": 103,
     "metadata": {},
     "output_type": "execute_result"
    }
   ],
   "source": [
    "n = y.to_numpy()\n",
    "n"
   ]
  },
  {
   "cell_type": "code",
   "execution_count": 104,
   "id": "a6f80046",
   "metadata": {},
   "outputs": [
    {
     "data": {
      "text/plain": [
       "array([[-0.49212215, -0.60216087, -0.59393786, -0.51381033, -0.50767403,\n",
       "        -0.56470021, -0.53443732, -0.52951757, -0.30379808],\n",
       "       [ 0.99702669,  1.21996229,  1.20330268,  1.04096639,  1.0285344 ,\n",
       "         1.14406795,  1.08275613,  1.07278884,  0.61548701]])"
      ]
     },
     "execution_count": 104,
     "metadata": {},
     "output_type": "execute_result"
    }
   ],
   "source": [
    "centroids"
   ]
  },
  {
   "cell_type": "code",
   "execution_count": 105,
   "id": "09f3561d",
   "metadata": {},
   "outputs": [],
   "source": [
    "from sklearn.metrics import confusion_matrix, classification_report\n",
    "cm = confusion_matrix(y,points)"
   ]
  },
  {
   "cell_type": "code",
   "execution_count": 106,
   "id": "25f81f37",
   "metadata": {},
   "outputs": [
    {
     "name": "stdout",
     "output_type": "stream",
     "text": [
      "              precision    recall  f1-score   support\n",
      "\n",
      "           0       0.95      0.97      0.96       458\n",
      "           1       0.95      0.91      0.93       241\n",
      "\n",
      "    accuracy                           0.95       699\n",
      "   macro avg       0.95      0.94      0.95       699\n",
      "weighted avg       0.95      0.95      0.95       699\n",
      "\n"
     ]
    },
    {
     "data": {
      "image/png": "[encoded data removed]",
      "text/plain": [
       "<Figure size 300x300 with 1 Axes>"
      ]
     },
     "metadata": {},
     "output_type": "display_data"
    }
   ],
   "source": [
    "# Plot confusion matrix\n",
    "fig, ax = plt.subplots(figsize=(3,3))\n",
    "ax.matshow(cm, cmap=plt.cm.Blues, alpha=0.3)\n",
    "for i in range(cm.shape[0]):\n",
    "    for j in range(cm.shape[1]):\n",
    "        ax.text(x=j, y=i, s=cm[i,j], va='center', ha='center')\n",
    "classes=[\"Benign\", \"Malignt\"]\n",
    "tick_marks = np.arange(len(classes))\n",
    "plt.xticks(tick_marks, classes, rotation=45)\n",
    "plt.yticks(tick_marks, classes)\n",
    "plt.xlabel('Predicted Values',)\n",
    "plt.ylabel('actual Values',);\n",
    "print(classification_report(y, points))"
   ]
  },
  {
   "cell_type": "code",
   "execution_count": 44,
   "id": "1f1d4a90",
   "metadata": {},
   "outputs": [],
   "source": [
    "x1 = X[points == 0, 0]\n",
    "x2 = X[points == 0, 1]\n",
    "#x3 = X[points == 0, 2]"
   ]
  },
  {
   "cell_type": "code",
   "execution_count": 16,
   "id": "e1c6fabe",
   "metadata": {},
   "outputs": [
    {
     "name": "stderr",
     "output_type": "stream",
     "text": [
      "/tmp/ipykernel_6975/3359428006.py:5: MatplotlibDeprecationWarning: The 'b' parameter of grid() has been renamed 'visible' since Matplotlib 3.5; support for the old name will be dropped two minor releases later.\n",
      "  ax.grid(b = True, color ='grey',linestyle ='-.', linewidth = 0.3,alpha = 0.2)\n"
     ]
    },
    {
     "data": {
      "image/png": "[encoded data removed]",
      "text/plain": [
       "<Figure size 1600x900 with 2 Axes>"
      ]
     },
     "metadata": {},
     "output_type": "display_data"
    }
   ],
   "source": [
    "# Creating figure\n",
    "fig = plt.figure(figsize = (16, 9))\n",
    "ax = plt.axes(projection =\"3d\")\n",
    "# Add x, y gridlines\n",
    "ax.grid(b = True, color ='grey',linestyle ='-.', linewidth = 0.3,alpha = 0.2)\n",
    "# Creating color map\n",
    "my_cmap = plt.get_cmap('hsv')\n",
    "# Creating plot\n",
    "sctt = ax.scatter3D(x1, x2, x3,alpha = 0.8,c = (x1 + x2 + x3),cmap = my_cmap,marker ='o')\n",
    "plt.title(\"Breast Cancer Wisconsin K-means clusters\")\n",
    "ax.set_xlabel('Cluster 1', fontweight ='bold')\n",
    "ax.set_ylabel('cluster 2', fontweight ='bold')\n",
    "ax.set_zlabel('cluster 3', fontweight ='bold')\n",
    "fig.colorbar(sctt, ax = ax, shrink = 0.5, aspect = 5)\n",
    "# show plot\n",
    "plt.show()"
   ]
  },
  {
   "cell_type": "code",
   "execution_count": 45,
   "id": "4f1be8a9",
   "metadata": {},
   "outputs": [
    {
     "data": {
      "application/vnd.plotly.v1+json": {
       "config": {
        "plotlyServerURL": "https://plot.ly"
       },
       "data": [
        {
         "marker": {
          "color": "#DB4CB2"
         },
         "mode": "markers",
         "name": "Cluster 1",
         "type": "scatter",
         "x": [
          0.2067876422434786,
          -0.5035050453643413,
          -0.1483587015604312,
          -1.213797732972161,
          -0.8586513891682511,
          -0.8586513891682511,
          -0.1483587015604312,
          -1.213797732972161,
          -0.8586513891682511,
          0.2067876422434786,
          -1.213797732972161,
          -0.1483587015604312,
          -0.1483587015604312,
          0.5619339860473886,
          -0.5035050453643413,
          1.2722266736552086,
          -1.213797732972161,
          0.2067876422434786,
          -0.5035050453643413,
          0.2067876422434786,
          -0.8586513891682511,
          -1.213797732972161,
          -0.5035050453643413,
          -0.8586513891682511,
          -0.8586513891682511,
          -0.5035050453643413,
          -0.8586513891682511,
          0.5619339860473886,
          -1.213797732972161,
          -1.213797732972161,
          -0.1483587015604312,
          0.2067876422434786,
          0.2067876422434786,
          1.6273730174591186,
          -1.213797732972161,
          0.5619339860473886,
          -1.213797732972161,
          -0.1483587015604312,
          -1.213797732972161,
          0.2067876422434786,
          -1.213797732972161,
          -1.213797732972161,
          -1.213797732972161,
          0.2067876422434786,
          -0.5035050453643413,
          -0.8586513891682511,
          -0.8586513891682511,
          -0.1483587015604312,
          0.2067876422434786,
          -0.5035050453643413,
          -0.1483587015604312,
          -0.8586513891682511,
          -1.213797732972161,
          -0.5035050453643413,
          -0.1483587015604312,
          -1.213797732972161,
          -0.8586513891682511,
          -1.213797732972161,
          -0.8586513891682511,
          0.2067876422434786,
          -0.8586513891682511,
          -0.1483587015604312,
          1.2722266736552086,
          -1.213797732972161,
          -1.213797732972161,
          -0.5035050453643413,
          -1.213797732972161,
          1.2722266736552086,
          -1.213797732972161,
          -0.5035050453643413,
          -1.213797732972161,
          -0.1483587015604312,
          -1.213797732972161,
          -0.5035050453643413,
          -1.213797732972161,
          0.2067876422434786,
          -0.8586513891682511,
          -0.5035050453643413,
          -0.5035050453643413,
          0.2067876422434786,
          -0.1483587015604312,
          -0.5035050453643413,
          -0.1483587015604312,
          -1.213797732972161,
          -0.5035050453643413,
          -0.8586513891682511,
          -1.213797732972161,
          -0.8586513891682511,
          -1.213797732972161,
          -0.5035050453643413,
          -1.213797732972161,
          -0.5035050453643413,
          -1.213797732972161,
          -0.1483587015604312,
          -1.213797732972161,
          -1.213797732972161,
          -0.8586513891682511,
          -1.213797732972161,
          -0.1483587015604312,
          -0.5035050453643413,
          -1.213797732972161,
          0.2067876422434786,
          -0.1483587015604312,
          -0.5035050453643413,
          -1.213797732972161,
          -0.5035050453643413,
          -1.213797732972161,
          -1.213797732972161,
          -0.8586513891682511,
          -0.1483587015604312,
          -1.213797732972161,
          -1.213797732972161,
          0.5619339860473886,
          -0.8586513891682511,
          -1.213797732972161,
          0.2067876422434786,
          -1.213797732972161,
          -0.5035050453643413,
          -0.1483587015604312,
          0.2067876422434786,
          -1.213797732972161,
          -0.5035050453643413,
          -1.213797732972161,
          0.2067876422434786,
          -1.213797732972161,
          -1.213797732972161,
          -1.213797732972161,
          0.2067876422434786,
          -1.213797732972161,
          -1.213797732972161,
          -1.213797732972161,
          0.5619339860473886,
          -1.213797732972161,
          -0.1483587015604312,
          -1.213797732972161,
          -1.213797732972161,
          1.2722266736552086,
          -0.5035050453643413,
          -0.5035050453643413,
          0.2067876422434786,
          -0.5035050453643413,
          -0.8586513891682511,
          -1.213797732972161,
          -1.213797732972161,
          0.2067876422434786,
          1.2722266736552086,
          -0.1483587015604312,
          -0.5035050453643413,
          -1.213797732972161,
          -0.5035050453643413,
          -0.5035050453643413,
          -0.5035050453643413,
          0.2067876422434786,
          -1.213797732972161,
          0.2067876422434786,
          0.9170803298512986,
          -0.5035050453643413,
          -0.5035050453643413,
          -0.5035050453643413,
          -1.213797732972161,
          -1.213797732972161,
          -0.5035050453643413,
          -0.8586513891682511,
          -0.5035050453643413,
          -1.213797732972161,
          -1.213797732972161,
          -1.213797732972161,
          0.2067876422434786,
          1.2722266736552086,
          -1.213797732972161,
          -1.213797732972161,
          -1.213797732972161,
          -1.213797732972161,
          -0.5035050453643413,
          -0.8586513891682511,
          -1.213797732972161,
          -1.213797732972161,
          -1.213797732972161,
          -1.213797732972161,
          -0.5035050453643413,
          -0.5035050453643413,
          -1.213797732972161,
          -0.5035050453643413,
          1.9825193612630283,
          -1.213797732972161,
          0.2067876422434786,
          0.2067876422434786,
          -1.213797732972161,
          -1.213797732972161,
          -1.213797732972161,
          -1.213797732972161,
          -0.8586513891682511,
          -1.213797732972161,
          -1.213797732972161,
          0.2067876422434786,
          -1.213797732972161,
          0.2067876422434786,
          -0.8586513891682511,
          -1.213797732972161,
          -0.1483587015604312,
          0.2067876422434786,
          -0.5035050453643413,
          -0.1483587015604312,
          -0.8586513891682511,
          -0.8586513891682511,
          -1.213797732972161,
          -1.213797732972161,
          -0.1483587015604312,
          -1.213797732972161,
          -0.1483587015604312,
          0.2067876422434786,
          -0.5035050453643413,
          -1.213797732972161,
          -1.213797732972161,
          -1.213797732972161,
          -0.5035050453643413,
          0.2067876422434786,
          -1.213797732972161,
          -0.5035050453643413,
          -0.8586513891682511,
          -0.8586513891682511,
          -0.5035050453643413,
          0.2067876422434786,
          -0.8586513891682511,
          0.2067876422434786,
          -1.213797732972161,
          -0.5035050453643413,
          -1.213797732972161,
          -1.213797732972161,
          -0.5035050453643413,
          -0.5035050453643413,
          -0.1483587015604312,
          -0.5035050453643413,
          -1.213797732972161,
          -0.5035050453643413,
          0.2067876422434786,
          -0.5035050453643413,
          -1.213797732972161,
          -1.213797732972161,
          -0.1483587015604312,
          -1.213797732972161,
          -0.8586513891682511,
          -0.5035050453643413,
          -1.213797732972161,
          -1.213797732972161,
          0.2067876422434786,
          -0.5035050453643413,
          -1.213797732972161,
          0.2067876422434786,
          -0.8586513891682511,
          -0.5035050453643413,
          -0.1483587015604312,
          0.2067876422434786,
          -0.5035050453643413,
          0.2067876422434786,
          -1.213797732972161,
          -0.8586513891682511,
          -1.213797732972161,
          0.2067876422434786,
          0.2067876422434786,
          -0.5035050453643413,
          -0.1483587015604312,
          -0.1483587015604312,
          0.2067876422434786,
          0.2067876422434786,
          -1.213797732972161,
          -1.213797732972161,
          0.2067876422434786,
          -0.8586513891682511,
          -1.213797732972161,
          0.2067876422434786,
          -1.213797732972161,
          -0.1483587015604312,
          0.2067876422434786,
          -0.5035050453643413,
          -0.8586513891682511,
          1.9825193612630283,
          0.2067876422434786,
          0.2067876422434786,
          0.2067876422434786,
          -0.5035050453643413,
          0.5619339860473886,
          -0.1483587015604312,
          -0.1483587015604312,
          -0.1483587015604312,
          -1.213797732972161,
          -0.5035050453643413,
          0.5619339860473886,
          0.5619339860473886,
          -0.1483587015604312,
          0.2067876422434786,
          -0.5035050453643413,
          -0.1483587015604312,
          -0.1483587015604312,
          0.2067876422434786,
          0.2067876422434786,
          0.2067876422434786,
          0.2067876422434786,
          -1.213797732972161,
          -0.5035050453643413,
          0.5619339860473886,
          -1.213797732972161,
          -0.1483587015604312,
          0.2067876422434786,
          -0.5035050453643413,
          -1.213797732972161,
          -0.1483587015604312,
          -0.1483587015604312,
          -0.1483587015604312,
          0.5619339860473886,
          -0.1483587015604312,
          -0.1483587015604312,
          -0.1483587015604312,
          -1.213797732972161,
          -0.5035050453643413,
          -1.213797732972161,
          0.2067876422434786,
          -0.8586513891682511,
          -1.213797732972161,
          0.2067876422434786,
          0.2067876422434786,
          -0.5035050453643413,
          -1.213797732972161,
          -1.213797732972161,
          -0.5035050453643413,
          -1.213797732972161,
          -0.1483587015604312,
          -0.5035050453643413,
          -0.5035050453643413,
          -0.1483587015604312,
          -0.1483587015604312,
          0.5619339860473886,
          -0.1483587015604312,
          -0.1483587015604312,
          -1.213797732972161,
          -0.5035050453643413,
          -0.8586513891682511,
          -1.213797732972161,
          0.2067876422434786,
          0.2067876422434786,
          -0.1483587015604312,
          0.5619339860473886,
          0.2067876422434786,
          -0.5035050453643413,
          0.2067876422434786,
          -0.1483587015604312,
          -0.8586513891682511,
          0.2067876422434786,
          -0.8586513891682511,
          -0.5035050453643413,
          -0.5035050453643413,
          -1.213797732972161,
          -0.5035050453643413,
          -0.1483587015604312,
          -0.5035050453643413,
          -0.1483587015604312,
          0.2067876422434786,
          0.2067876422434786,
          -0.8586513891682511,
          0.2067876422434786,
          0.2067876422434786,
          0.2067876422434786,
          -1.213797732972161,
          -0.5035050453643413,
          -0.1483587015604312,
          -0.5035050453643413,
          -0.1483587015604312,
          -0.5035050453643413,
          -1.213797732972161,
          0.2067876422434786,
          0.2067876422434786,
          -1.213797732972161,
          -1.213797732972161,
          -1.213797732972161,
          0.2067876422434786,
          -0.5035050453643413,
          0.2067876422434786,
          -1.213797732972161,
          0.2067876422434786,
          0.2067876422434786,
          0.2067876422434786,
          0.2067876422434786,
          -0.1483587015604312,
          0.2067876422434786,
          -0.5035050453643413,
          0.2067876422434786,
          -0.5035050453643413,
          -1.213797732972161,
          -0.1483587015604312,
          -0.1483587015604312,
          -1.213797732972161,
          0.2067876422434786,
          -0.8586513891682511,
          -0.8586513891682511,
          -0.1483587015604312,
          -0.5035050453643413,
          -1.213797732972161,
          -0.1483587015604312,
          0.2067876422434786,
          -0.5035050453643413,
          0.5619339860473886,
          0.9170803298512986,
          -1.213797732972161,
          0.2067876422434786,
          -0.5035050453643413,
          -0.8586513891682511,
          -0.8586513891682511,
          -0.1483587015604312,
          0.5619339860473886,
          0.2067876422434786,
          -1.213797732972161,
          -0.5035050453643413,
          -0.5035050453643413,
          -0.1483587015604312,
          -0.1483587015604312,
          0.2067876422434786,
          -0.1483587015604312,
          -0.5035050453643413,
          -0.5035050453643413,
          -1.213797732972161,
          -0.8586513891682511,
          -0.5035050453643413,
          -1.213797732972161,
          -1.213797732972161,
          -0.5035050453643413,
          -0.5035050453643413,
          -1.213797732972161,
          0.2067876422434786,
          -0.1483587015604312,
          -0.5035050453643413,
          -0.5035050453643413,
          0.2067876422434786,
          -1.213797732972161,
          -1.213797732972161,
          -0.1483587015604312,
          -1.213797732972161,
          -1.213797732972161,
          -0.5035050453643413,
          -1.213797732972161,
          0.2067876422434786,
          -0.5035050453643413,
          -0.5035050453643413,
          -0.8586513891682511,
          0.2067876422434786,
          -1.213797732972161,
          -0.1483587015604312,
          -1.213797732972161,
          0.2067876422434786,
          -1.213797732972161,
          -0.8586513891682511,
          0.2067876422434786,
          -1.213797732972161,
          -1.213797732972161,
          -1.213797732972161,
          -1.213797732972161,
          -0.5035050453643413,
          -0.1483587015604312,
          -1.213797732972161,
          -1.213797732972161,
          -0.5035050453643413,
          -0.5035050453643413,
          -0.5035050453643413,
          -0.8586513891682511
         ],
         "y": [
          -0.6994941595324174,
          -0.6994941595324174,
          -0.6994941595324174,
          -0.6994941595324174,
          -0.6994941595324174,
          -0.6994941595324174,
          -0.3717820834512109,
          -0.6994941595324174,
          -0.6994941595324174,
          -0.0440700073700043,
          -0.6994941595324174,
          -0.6994941595324174,
          -0.6994941595324174,
          -0.6994941595324174,
          -0.6994941595324174,
          0.2836420687112021,
          -0.6994941595324174,
          -0.3717820834512109,
          -0.3717820834512109,
          -0.6994941595324174,
          -0.6994941595324174,
          -0.6994941595324174,
          -0.6994941595324174,
          -0.6994941595324174,
          -0.6994941595324174,
          -0.6994941595324174,
          -0.6994941595324174,
          -0.3717820834512109,
          -0.6994941595324174,
          -0.6994941595324174,
          -0.6994941595324174,
          -0.0440700073700043,
          -0.3717820834512109,
          0.6113541447924086,
          -0.6994941595324174,
          -0.0440700073700043,
          -0.6994941595324174,
          -0.6994941595324174,
          -0.6994941595324174,
          -0.6994941595324174,
          -0.0440700073700043,
          -0.6994941595324174,
          -0.6994941595324174,
          -0.0440700073700043,
          -0.6994941595324174,
          -0.6994941595324174,
          -0.3717820834512109,
          -0.6994941595324174,
          -0.3717820834512109,
          -0.6994941595324174,
          -0.6994941595324174,
          -0.6994941595324174,
          -0.6994941595324174,
          -0.6994941595324174,
          -0.6994941595324174,
          -0.6994941595324174,
          -0.6994941595324174,
          -0.6994941595324174,
          -0.6994941595324174,
          -0.6994941595324174,
          -0.0440700073700043,
          -0.6994941595324174,
          -0.3717820834512109,
          -0.6994941595324174,
          -0.0440700073700043,
          -0.0440700073700043,
          -0.6994941595324174,
          -0.0440700073700043,
          -0.6994941595324174,
          -0.3717820834512109,
          -0.6994941595324174,
          -0.3717820834512109,
          -0.6994941595324174,
          -0.6994941595324174,
          -0.6994941595324174,
          -0.6994941595324174,
          -0.6994941595324174,
          -0.6994941595324174,
          -0.6994941595324174,
          -0.6994941595324174,
          -0.6994941595324174,
          -0.6994941595324174,
          -0.6994941595324174,
          -0.6994941595324174,
          -0.6994941595324174,
          -0.6994941595324174,
          -0.6994941595324174,
          -0.6994941595324174,
          -0.6994941595324174,
          0.2836420687112021,
          -0.6994941595324174,
          -0.6994941595324174,
          -0.6994941595324174,
          -0.6994941595324174,
          -0.6994941595324174,
          -0.3717820834512109,
          -0.6994941595324174,
          -0.6994941595324174,
          -0.6994941595324174,
          -0.6994941595324174,
          -0.6994941595324174,
          -0.6994941595324174,
          -0.6994941595324174,
          -0.6994941595324174,
          -0.6994941595324174,
          -0.6994941595324174,
          -0.6994941595324174,
          -0.6994941595324174,
          -0.6994941595324174,
          -0.6994941595324174,
          -0.6994941595324174,
          -0.6994941595324174,
          -0.6994941595324174,
          -0.6994941595324174,
          -0.3717820834512109,
          -0.6994941595324174,
          -0.6994941595324174,
          -0.6994941595324174,
          -0.6994941595324174,
          -0.6994941595324174,
          -0.6994941595324174,
          -0.6994941595324174,
          -0.6994941595324174,
          -0.6994941595324174,
          -0.6994941595324174,
          -0.6994941595324174,
          -0.6994941595324174,
          -0.6994941595324174,
          -0.6994941595324174,
          -0.6994941595324174,
          -0.6994941595324174,
          -0.6994941595324174,
          -0.6994941595324174,
          -0.6994941595324174,
          -0.6994941595324174,
          -0.6994941595324174,
          0.2836420687112021,
          -0.0440700073700043,
          -0.6994941595324174,
          -0.6994941595324174,
          -0.6994941595324174,
          -0.6994941595324174,
          -0.6994941595324174,
          -0.6994941595324174,
          -0.6994941595324174,
          0.2836420687112021,
          -0.6994941595324174,
          -0.6994941595324174,
          -0.3717820834512109,
          -0.6994941595324174,
          -0.6994941595324174,
          -0.6994941595324174,
          -0.6994941595324174,
          -0.6994941595324174,
          -0.6994941595324174,
          -0.3717820834512109,
          -0.6994941595324174,
          -0.6994941595324174,
          -0.6994941595324174,
          -0.6994941595324174,
          -0.6994941595324174,
          -0.6994941595324174,
          -0.6994941595324174,
          -0.6994941595324174,
          -0.6994941595324174,
          -0.6994941595324174,
          -0.6994941595324174,
          0.2836420687112021,
          -0.3717820834512109,
          -0.6994941595324174,
          -0.6994941595324174,
          -0.6994941595324174,
          -0.6994941595324174,
          -0.6994941595324174,
          -0.6994941595324174,
          -0.6994941595324174,
          -0.6994941595324174,
          -0.6994941595324174,
          -0.6994941595324174,
          -0.6994941595324174,
          -0.6994941595324174,
          -0.6994941595324174,
          -0.3717820834512109,
          -0.6994941595324174,
          -0.6994941595324174,
          -0.6994941595324174,
          -0.3717820834512109,
          -0.6994941595324174,
          -0.6994941595324174,
          -0.6994941595324174,
          -0.6994941595324174,
          -0.6994941595324174,
          -0.6994941595324174,
          -0.6994941595324174,
          -0.3717820834512109,
          -0.6994941595324174,
          -0.6994941595324174,
          -0.6994941595324174,
          -0.6994941595324174,
          -0.6994941595324174,
          -0.0440700073700043,
          -0.3717820834512109,
          0.2836420687112021,
          -0.6994941595324174,
          -0.6994941595324174,
          -0.6994941595324174,
          -0.6994941595324174,
          -0.0440700073700043,
          -0.6994941595324174,
          -0.6994941595324174,
          -0.6994941595324174,
          -0.6994941595324174,
          -0.6994941595324174,
          -0.6994941595324174,
          -0.6994941595324174,
          -0.6994941595324174,
          -0.0440700073700043,
          -0.6994941595324174,
          -0.3717820834512109,
          -0.6994941595324174,
          -0.6994941595324174,
          -0.0440700073700043,
          -0.0440700073700043,
          -0.6994941595324174,
          -0.6994941595324174,
          -0.6994941595324174,
          -0.6994941595324174,
          -0.6994941595324174,
          -0.3717820834512109,
          -0.6994941595324174,
          -0.6994941595324174,
          -0.6994941595324174,
          -0.3717820834512109,
          -0.3717820834512109,
          -0.6994941595324174,
          -0.0440700073700043,
          -0.6994941595324174,
          -0.3717820834512109,
          -0.6994941595324174,
          -0.3717820834512109,
          -0.6994941595324174,
          -0.0440700073700043,
          -0.6994941595324174,
          -0.6994941595324174,
          -0.6994941595324174,
          -0.6994941595324174,
          -0.0440700073700043,
          -0.6994941595324174,
          -0.3717820834512109,
          -0.0440700073700043,
          -0.3717820834512109,
          -0.0440700073700043,
          -0.6994941595324174,
          -0.6994941595324174,
          -0.0440700073700043,
          -0.6994941595324174,
          -0.6994941595324174,
          -0.0440700073700043,
          -0.6994941595324174,
          -0.6994941595324174,
          -0.3717820834512109,
          -0.6994941595324174,
          -0.6994941595324174,
          -0.6994941595324174,
          -0.3717820834512109,
          -0.6994941595324174,
          -0.6994941595324174,
          -0.6994941595324174,
          -0.6994941595324174,
          -0.6994941595324174,
          -0.6994941595324174,
          -0.6994941595324174,
          -0.6994941595324174,
          -0.6994941595324174,
          -0.6994941595324174,
          -0.0440700073700043,
          -0.3717820834512109,
          -0.6994941595324174,
          -0.6994941595324174,
          -0.6994941595324174,
          -0.6994941595324174,
          -0.6994941595324174,
          -0.6994941595324174,
          -0.6994941595324174,
          -0.6994941595324174,
          -0.6994941595324174,
          -0.6994941595324174,
          -0.6994941595324174,
          -0.6994941595324174,
          -0.6994941595324174,
          -0.6994941595324174,
          -0.6994941595324174,
          -0.6994941595324174,
          -0.6994941595324174,
          -0.3717820834512109,
          -0.6994941595324174,
          -0.0440700073700043,
          -0.6994941595324174,
          -0.6994941595324174,
          -0.6994941595324174,
          -0.0440700073700043,
          -0.6994941595324174,
          -0.6994941595324174,
          -0.6994941595324174,
          -0.6994941595324174,
          -0.6994941595324174,
          -0.3717820834512109,
          -0.6994941595324174,
          -0.6994941595324174,
          -0.6994941595324174,
          -0.6994941595324174,
          -0.6994941595324174,
          -0.6994941595324174,
          -0.6994941595324174,
          -0.0440700073700043,
          -0.6994941595324174,
          -0.6994941595324174,
          -0.6994941595324174,
          -0.6994941595324174,
          -0.6994941595324174,
          -0.6994941595324174,
          -0.6994941595324174,
          -0.6994941595324174,
          -0.6994941595324174,
          -0.6994941595324174,
          -0.6994941595324174,
          -0.6994941595324174,
          -0.6994941595324174,
          -0.6994941595324174,
          -0.6994941595324174,
          -0.6994941595324174,
          -0.6994941595324174,
          -0.6994941595324174,
          -0.3717820834512109,
          -0.6994941595324174,
          -0.6994941595324174,
          -0.6994941595324174,
          -0.6994941595324174,
          -0.6994941595324174,
          -0.6994941595324174,
          -0.6994941595324174,
          -0.6994941595324174,
          -0.6994941595324174,
          -0.6994941595324174,
          -0.0440700073700043,
          -0.6994941595324174,
          -0.6994941595324174,
          -0.6994941595324174,
          -0.6994941595324174,
          -0.6994941595324174,
          -0.6994941595324174,
          -0.6994941595324174,
          -0.3717820834512109,
          0.2836420687112021,
          -0.6994941595324174,
          -0.0440700073700043,
          -0.3717820834512109,
          -0.6994941595324174,
          -0.6994941595324174,
          -0.6994941595324174,
          -0.6994941595324174,
          -0.6994941595324174,
          -0.6994941595324174,
          -0.6994941595324174,
          -0.6994941595324174,
          -0.6994941595324174,
          -0.6994941595324174,
          -0.6994941595324174,
          -0.6994941595324174,
          -0.6994941595324174,
          -0.6994941595324174,
          -0.6994941595324174,
          -0.6994941595324174,
          -0.6994941595324174,
          -0.6994941595324174,
          -0.6994941595324174,
          -0.6994941595324174,
          -0.6994941595324174,
          -0.6994941595324174,
          -0.6994941595324174,
          -0.6994941595324174,
          -0.6994941595324174,
          -0.6994941595324174,
          -0.6994941595324174,
          -0.6994941595324174,
          -0.3717820834512109,
          -0.6994941595324174,
          -0.6994941595324174,
          -0.6994941595324174,
          -0.6994941595324174,
          -0.6994941595324174,
          -0.6994941595324174,
          -0.0440700073700043,
          -0.6994941595324174,
          -0.6994941595324174,
          -0.6994941595324174,
          -0.6994941595324174,
          -0.6994941595324174,
          -0.6994941595324174,
          -0.6994941595324174,
          -0.0440700073700043,
          -0.6994941595324174,
          -0.6994941595324174,
          -0.6994941595324174,
          -0.6994941595324174,
          -0.6994941595324174,
          -0.6994941595324174,
          -0.6994941595324174,
          -0.3717820834512109,
          -0.6994941595324174,
          -0.6994941595324174,
          -0.6994941595324174,
          -0.6994941595324174,
          -0.3717820834512109,
          -0.6994941595324174,
          -0.6994941595324174,
          -0.6994941595324174,
          -0.6994941595324174,
          -0.6994941595324174,
          -0.6994941595324174,
          -0.6994941595324174,
          -0.6994941595324174,
          -0.3717820834512109,
          -0.6994941595324174,
          -0.6994941595324174,
          -0.6994941595324174,
          -0.3717820834512109,
          -0.6994941595324174,
          -0.6994941595324174,
          -0.6994941595324174,
          -0.6994941595324174,
          -0.6994941595324174,
          -0.6994941595324174,
          -0.6994941595324174,
          -0.6994941595324174,
          -0.6994941595324174,
          -0.6994941595324174,
          -0.6994941595324174,
          -0.6994941595324174,
          -0.3717820834512109,
          -0.6994941595324174,
          -0.3717820834512109,
          -0.6994941595324174,
          -0.0440700073700043,
          -0.6994941595324174,
          -0.6994941595324174,
          -0.6994941595324174,
          -0.6994941595324174,
          -0.6994941595324174,
          -0.6994941595324174,
          -0.6994941595324174,
          -0.6994941595324174,
          -0.6994941595324174,
          -0.6994941595324174,
          -0.6994941595324174,
          -0.6994941595324174,
          -0.6994941595324174,
          -0.6994941595324174,
          -0.6994941595324174,
          -0.6994941595324174,
          -0.6994941595324174,
          -0.6994941595324174,
          -0.6994941595324174
         ]
        },
        {
         "marker": {
          "color": "#7CFC00"
         },
         "mode": "markers",
         "name": "Cluster 2",
         "type": "scatter",
         "x": [
          0.2067876422434786,
          0.5619339860473886,
          1.2722266736552086,
          1.2722266736552086,
          0.9170803298512986,
          1.9825193612630283,
          0.9170803298512986,
          1.9825193612630283,
          1.9825193612630283,
          1.9825193612630283,
          0.2067876422434786,
          -0.8586513891682511,
          0.5619339860473886,
          1.9825193612630283,
          0.5619339860473886,
          0.2067876422434786,
          1.9825193612630283,
          -0.5035050453643413,
          0.9170803298512986,
          1.6273730174591186,
          1.9825193612630283,
          0.2067876422434786,
          1.9825193612630283,
          1.9825193612630283,
          1.2722266736552086,
          1.2722266736552086,
          0.2067876422434786,
          1.6273730174591186,
          1.9825193612630283,
          0.2067876422434786,
          1.2722266736552086,
          0.5619339860473886,
          1.6273730174591186,
          1.9825193612630283,
          -0.5035050453643413,
          0.2067876422434786,
          -0.5035050453643413,
          -0.5035050453643413,
          1.6273730174591186,
          0.9170803298512986,
          1.9825193612630283,
          1.9825193612630283,
          0.9170803298512986,
          1.9825193612630283,
          -1.213797732972161,
          0.5619339860473886,
          1.2722266736552086,
          1.9825193612630283,
          1.9825193612630283,
          -0.1483587015604312,
          1.9825193612630283,
          0.2067876422434786,
          0.2067876422434786,
          0.9170803298512986,
          1.2722266736552086,
          0.2067876422434786,
          1.6273730174591186,
          1.2722266736552086,
          0.9170803298512986,
          1.9825193612630283,
          0.2067876422434786,
          1.6273730174591186,
          1.9825193612630283,
          0.2067876422434786,
          1.9825193612630283,
          0.5619339860473886,
          1.2722266736552086,
          0.2067876422434786,
          0.2067876422434786,
          0.2067876422434786,
          0.2067876422434786,
          1.2722266736552086,
          -1.213797732972161,
          1.9825193612630283,
          0.2067876422434786,
          1.9825193612630283,
          0.9170803298512986,
          1.2722266736552086,
          1.6273730174591186,
          1.9825193612630283,
          0.2067876422434786,
          1.9825193612630283,
          1.2722266736552086,
          1.2722266736552086,
          1.9825193612630283,
          1.9825193612630283,
          1.2722266736552086,
          0.5619339860473886,
          1.9825193612630283,
          0.9170803298512986,
          1.9825193612630283,
          1.9825193612630283,
          1.2722266736552086,
          1.9825193612630283,
          0.9170803298512986,
          0.5619339860473886,
          1.9825193612630283,
          1.9825193612630283,
          1.6273730174591186,
          1.2722266736552086,
          1.9825193612630283,
          1.2722266736552086,
          1.9825193612630283,
          0.5619339860473886,
          0.5619339860473886,
          1.6273730174591186,
          0.2067876422434786,
          0.2067876422434786,
          1.9825193612630283,
          0.2067876422434786,
          1.2722266736552086,
          1.9825193612630283,
          0.9170803298512986,
          1.9825193612630283,
          -0.5035050453643413,
          1.9825193612630283,
          1.2722266736552086,
          -0.5035050453643413,
          1.9825193612630283,
          -1.213797732972161,
          1.9825193612630283,
          0.9170803298512986,
          1.2722266736552086,
          1.9825193612630283,
          0.5619339860473886,
          0.2067876422434786,
          1.2722266736552086,
          1.9825193612630283,
          0.2067876422434786,
          0.2067876422434786,
          1.6273730174591186,
          1.2722266736552086,
          1.9825193612630283,
          1.2722266736552086,
          1.9825193612630283,
          0.9170803298512986,
          1.2722266736552086,
          -0.1483587015604312,
          0.2067876422434786,
          0.5619339860473886,
          -0.1483587015604312,
          0.9170803298512986,
          0.2067876422434786,
          1.2722266736552086,
          1.9825193612630283,
          1.9825193612630283,
          0.2067876422434786,
          1.2722266736552086,
          0.5619339860473886,
          1.2722266736552086,
          1.9825193612630283,
          0.9170803298512986,
          -0.5035050453643413,
          -0.1483587015604312,
          -0.5035050453643413,
          -0.8586513891682511,
          1.2722266736552086,
          1.2722266736552086,
          1.9825193612630283,
          0.5619339860473886,
          -0.5035050453643413,
          0.5619339860473886,
          0.2067876422434786,
          1.9825193612630283,
          0.9170803298512986,
          1.9825193612630283,
          -0.5035050453643413,
          1.9825193612630283,
          1.2722266736552086,
          1.2722266736552086,
          1.9825193612630283,
          1.6273730174591186,
          1.2722266736552086,
          0.5619339860473886,
          1.9825193612630283,
          1.9825193612630283,
          1.9825193612630283,
          0.2067876422434786,
          -0.1483587015604312,
          1.9825193612630283,
          1.2722266736552086,
          1.9825193612630283,
          1.9825193612630283,
          0.5619339860473886,
          -0.1483587015604312,
          1.6273730174591186,
          1.2722266736552086,
          1.9825193612630283,
          -0.5035050453643413,
          0.2067876422434786,
          0.2067876422434786,
          1.2722266736552086,
          0.5619339860473886,
          -0.1483587015604312,
          -0.1483587015604312,
          1.9825193612630283,
          0.9170803298512986,
          0.9170803298512986,
          0.5619339860473886,
          0.9170803298512986,
          0.2067876422434786,
          1.2722266736552086,
          1.9825193612630283,
          1.2722266736552086,
          0.9170803298512986,
          1.9825193612630283,
          0.2067876422434786,
          0.5619339860473886,
          1.2722266736552086,
          1.6273730174591186,
          -0.1483587015604312,
          -0.8586513891682511,
          1.9825193612630283,
          -0.1483587015604312,
          0.2067876422434786,
          0.2067876422434786,
          1.9825193612630283,
          0.2067876422434786,
          1.9825193612630283,
          0.2067876422434786,
          1.2722266736552086,
          -0.1483587015604312,
          1.2722266736552086,
          1.9825193612630283,
          0.2067876422434786,
          0.2067876422434786,
          0.9170803298512986,
          0.2067876422434786,
          0.2067876422434786,
          -0.5035050453643413,
          1.9825193612630283,
          0.2067876422434786,
          0.2067876422434786,
          0.2067876422434786,
          -0.1483587015604312,
          -0.1483587015604312
         ],
         "y": [
          0.2836420687112021,
          1.5944903730360285,
          2.249914525198441,
          1.2667782969548216,
          0.2836420687112021,
          1.2667782969548216,
          -0.0440700073700043,
          0.6113541447924086,
          1.2667782969548216,
          2.249914525198441,
          0.2836420687112021,
          0.6113541447924086,
          0.9390662208736152,
          0.2836420687112021,
          2.249914525198441,
          0.9390662208736152,
          2.249914525198441,
          1.2667782969548216,
          1.5944903730360285,
          0.6113541447924086,
          -0.0440700073700043,
          0.6113541447924086,
          0.6113541447924086,
          0.9390662208736152,
          2.249914525198441,
          -0.3717820834512109,
          -0.0440700073700043,
          2.249914525198441,
          0.2836420687112021,
          -0.0440700073700043,
          -0.0440700073700043,
          2.249914525198441,
          0.2836420687112021,
          0.9390662208736152,
          0.6113541447924086,
          2.249914525198441,
          -0.0440700073700043,
          0.9390662208736152,
          0.9390662208736152,
          0.6113541447924086,
          -0.0440700073700043,
          2.249914525198441,
          -0.0440700073700043,
          2.249914525198441,
          0.9390662208736152,
          0.6113541447924086,
          0.9390662208736152,
          -0.0440700073700043,
          2.249914525198441,
          0.6113541447924086,
          2.249914525198441,
          -0.0440700073700043,
          0.2836420687112021,
          0.6113541447924086,
          -0.0440700073700043,
          2.249914525198441,
          0.6113541447924086,
          1.5944903730360285,
          -0.3717820834512109,
          2.249914525198441,
          0.6113541447924086,
          1.9222024491172347,
          1.2667782969548216,
          0.9390662208736152,
          1.5944903730360285,
          2.249914525198441,
          0.9390662208736152,
          1.5944903730360285,
          2.249914525198441,
          -0.0440700073700043,
          1.5944903730360285,
          1.2667782969548216,
          0.6113541447924086,
          0.6113541447924086,
          1.5944903730360285,
          2.249914525198441,
          0.6113541447924086,
          0.2836420687112021,
          1.2667782969548216,
          1.5944903730360285,
          2.249914525198441,
          2.249914525198441,
          2.249914525198441,
          2.249914525198441,
          2.249914525198441,
          2.249914525198441,
          1.2667782969548216,
          2.249914525198441,
          0.9390662208736152,
          0.6113541447924086,
          0.6113541447924086,
          0.6113541447924086,
          1.9222024491172347,
          2.249914525198441,
          0.2836420687112021,
          1.5944903730360285,
          0.2836420687112021,
          1.5944903730360285,
          1.5944903730360285,
          2.249914525198441,
          0.2836420687112021,
          2.249914525198441,
          0.2836420687112021,
          -0.0440700073700043,
          2.249914525198441,
          2.249914525198441,
          0.9390662208736152,
          1.2667782969548216,
          0.6113541447924086,
          2.249914525198441,
          1.5944903730360285,
          0.2836420687112021,
          1.9222024491172347,
          2.249914525198441,
          -0.0440700073700043,
          1.5944903730360285,
          0.2836420687112021,
          -0.0440700073700043,
          0.6113541447924086,
          0.2836420687112021,
          0.2836420687112021,
          0.2836420687112021,
          2.249914525198441,
          2.249914525198441,
          -0.6994941595324174,
          0.9390662208736152,
          1.5944903730360285,
          0.2836420687112021,
          0.6113541447924086,
          -0.0440700073700043,
          -0.6994941595324174,
          0.2836420687112021,
          2.249914525198441,
          -0.0440700073700043,
          1.5944903730360285,
          1.5944903730360285,
          0.9390662208736152,
          0.9390662208736152,
          0.6113541447924086,
          1.5944903730360285,
          0.2836420687112021,
          0.9390662208736152,
          0.2836420687112021,
          2.249914525198441,
          0.2836420687112021,
          0.2836420687112021,
          0.2836420687112021,
          0.9390662208736152,
          0.6113541447924086,
          0.6113541447924086,
          -0.0440700073700043,
          0.9390662208736152,
          0.2836420687112021,
          -0.3717820834512109,
          0.2836420687112021,
          1.2667782969548216,
          2.249914525198441,
          2.249914525198441,
          -0.0440700073700043,
          2.249914525198441,
          2.249914525198441,
          2.249914525198441,
          1.5944903730360285,
          0.9390662208736152,
          0.9390662208736152,
          1.5944903730360285,
          2.249914525198441,
          2.249914525198441,
          0.6113541447924086,
          1.2667782969548216,
          2.249914525198441,
          2.249914525198441,
          1.2667782969548216,
          1.9222024491172347,
          1.5944903730360285,
          2.249914525198441,
          0.2836420687112021,
          1.2667782969548216,
          0.6113541447924086,
          0.9390662208736152,
          1.5944903730360285,
          1.9222024491172347,
          0.9390662208736152,
          0.9390662208736152,
          1.5944903730360285,
          2.249914525198441,
          1.2667782969548216,
          2.249914525198441,
          0.9390662208736152,
          1.5944903730360285,
          2.249914525198441,
          2.249914525198441,
          0.9390662208736152,
          2.249914525198441,
          1.2667782969548216,
          0.2836420687112021,
          0.6113541447924086,
          0.2836420687112021,
          2.249914525198441,
          1.5944903730360285,
          1.2667782969548216,
          0.2836420687112021,
          2.249914525198441,
          2.249914525198441,
          0.9390662208736152,
          1.9222024491172347,
          1.2667782969548216,
          2.249914525198441,
          2.249914525198441,
          1.5944903730360285,
          2.249914525198441,
          0.6113541447924086,
          -0.0440700073700043,
          1.5944903730360285,
          0.2836420687112021,
          -0.0440700073700043,
          0.6113541447924086,
          2.249914525198441,
          0.2836420687112021,
          2.249914525198441,
          2.249914525198441,
          0.9390662208736152,
          1.2667782969548216,
          2.249914525198441,
          2.249914525198441,
          0.2836420687112021,
          1.5944903730360285,
          1.2667782969548216,
          2.249914525198441,
          2.249914525198441,
          2.249914525198441,
          2.249914525198441,
          2.249914525198441,
          2.249914525198441,
          1.5944903730360285,
          1.5944903730360285
         ]
        },
        {
         "marker": {
          "color": "#7D3AC1"
         },
         "mode": "markers",
         "name": "cluster 3",
         "type": "scatter",
         "x": [],
         "y": []
        },
        {
         "marker": {
          "color": "black",
          "size": 13,
          "symbol": 4
         },
         "mode": "markers",
         "name": "Centroids",
         "type": "scatter",
         "x": [
          -0.497368607458439,
          0.9757697680222862
         ],
         "y": [
          -0.6081877711642182,
          1.1931819408857383
         ]
        }
       ],
       "layout": {
        "height": 500,
        "template": {
         "data": {
          "bar": [
           {
            "error_x": {
             "color": "rgb(36,36,36)"
            },
            "error_y": {
             "color": "rgb(36,36,36)"
            },
            "marker": {
             "line": {
              "color": "rgb(234,234,242)",
              "width": 0.5
             },
             "pattern": {
              "fillmode": "overlay",
              "size": 10,
              "solidity": 0.2
             }
            },
            "type": "bar"
           }
          ],
          "barpolar": [
           {
            "marker": {
             "line": {
              "color": "rgb(234,234,242)",
              "width": 0.5
             },
             "pattern": {
              "fillmode": "overlay",
              "size": 10,
              "solidity": 0.2
             }
            },
            "type": "barpolar"
           }
          ],
          "carpet": [
           {
            "aaxis": {
             "endlinecolor": "rgb(36,36,36)",
             "gridcolor": "white",
             "linecolor": "white",
             "minorgridcolor": "white",
             "startlinecolor": "rgb(36,36,36)"
            },
            "baxis": {
             "endlinecolor": "rgb(36,36,36)",
             "gridcolor": "white",
             "linecolor": "white",
             "minorgridcolor": "white",
             "startlinecolor": "rgb(36,36,36)"
            },
            "type": "carpet"
           }
          ],
          "choropleth": [
           {
            "colorbar": {
             "outlinewidth": 0,
             "tickcolor": "rgb(36,36,36)",
             "ticklen": 8,
             "ticks": "outside",
             "tickwidth": 2
            },
            "type": "choropleth"
           }
          ],
          "contour": [
           {
            "colorbar": {
             "outlinewidth": 0,
             "tickcolor": "rgb(36,36,36)",
             "ticklen": 8,
             "ticks": "outside",
             "tickwidth": 2
            },
            "colorscale": [
             [
              0,
              "rgb(2,4,25)"
             ],
             [
              0.06274509803921569,
              "rgb(24,15,41)"
             ],
             [
              0.12549019607843137,
              "rgb(47,23,57)"
             ],
             [
              0.18823529411764706,
              "rgb(71,28,72)"
             ],
             [
              0.25098039215686274,
              "rgb(97,30,82)"
             ],
             [
              0.3137254901960784,
              "rgb(123,30,89)"
             ],
             [
              0.3764705882352941,
              "rgb(150,27,91)"
             ],
             [
              0.4392156862745098,
              "rgb(177,22,88)"
             ],
             [
              0.5019607843137255,
              "rgb(203,26,79)"
             ],
             [
              0.5647058823529412,
              "rgb(223,47,67)"
             ],
             [
              0.6274509803921569,
              "rgb(236,76,61)"
             ],
             [
              0.6901960784313725,
              "rgb(242,107,73)"
             ],
             [
              0.7529411764705882,
              "rgb(244,135,95)"
             ],
             [
              0.8156862745098039,
              "rgb(245,162,122)"
             ],
             [
              0.8784313725490196,
              "rgb(246,188,153)"
             ],
             [
              0.9411764705882353,
              "rgb(247,212,187)"
             ],
             [
              1,
              "rgb(250,234,220)"
             ]
            ],
            "type": "contour"
           }
          ],
          "contourcarpet": [
           {
            "colorbar": {
             "outlinewidth": 0,
             "tickcolor": "rgb(36,36,36)",
             "ticklen": 8,
             "ticks": "outside",
             "tickwidth": 2
            },
            "type": "contourcarpet"
           }
          ],
          "heatmap": [
           {
            "colorbar": {
             "outlinewidth": 0,
             "tickcolor": "rgb(36,36,36)",
             "ticklen": 8,
             "ticks": "outside",
             "tickwidth": 2
            },
            "colorscale": [
             [
              0,
              "rgb(2,4,25)"
             ],
             [
              0.06274509803921569,
              "rgb(24,15,41)"
             ],
             [
              0.12549019607843137,
              "rgb(47,23,57)"
             ],
             [
              0.18823529411764706,
              "rgb(71,28,72)"
             ],
             [
              0.25098039215686274,
              "rgb(97,30,82)"
             ],
             [
              0.3137254901960784,
              "rgb(123,30,89)"
             ],
             [
              0.3764705882352941,
              "rgb(150,27,91)"
             ],
             [
              0.4392156862745098,
              "rgb(177,22,88)"
             ],
             [
              0.5019607843137255,
              "rgb(203,26,79)"
             ],
             [
              0.5647058823529412,
              "rgb(223,47,67)"
             ],
             [
              0.6274509803921569,
              "rgb(236,76,61)"
             ],
             [
              0.6901960784313725,
              "rgb(242,107,73)"
             ],
             [
              0.7529411764705882,
              "rgb(244,135,95)"
             ],
             [
              0.8156862745098039,
              "rgb(245,162,122)"
             ],
             [
              0.8784313725490196,
              "rgb(246,188,153)"
             ],
             [
              0.9411764705882353,
              "rgb(247,212,187)"
             ],
             [
              1,
              "rgb(250,234,220)"
             ]
            ],
            "type": "heatmap"
           }
          ],
          "heatmapgl": [
           {
            "colorbar": {
             "outlinewidth": 0,
             "tickcolor": "rgb(36,36,36)",
             "ticklen": 8,
             "ticks": "outside",
             "tickwidth": 2
            },
            "colorscale": [
             [
              0,
              "rgb(2,4,25)"
             ],
             [
              0.06274509803921569,
              "rgb(24,15,41)"
             ],
             [
              0.12549019607843137,
              "rgb(47,23,57)"
             ],
             [
              0.18823529411764706,
              "rgb(71,28,72)"
             ],
             [
              0.25098039215686274,
              "rgb(97,30,82)"
             ],
             [
              0.3137254901960784,
              "rgb(123,30,89)"
             ],
             [
              0.3764705882352941,
              "rgb(150,27,91)"
             ],
             [
              0.4392156862745098,
              "rgb(177,22,88)"
             ],
             [
              0.5019607843137255,
              "rgb(203,26,79)"
             ],
             [
              0.5647058823529412,
              "rgb(223,47,67)"
             ],
             [
              0.6274509803921569,
              "rgb(236,76,61)"
             ],
             [
              0.6901960784313725,
              "rgb(242,107,73)"
             ],
             [
              0.7529411764705882,
              "rgb(244,135,95)"
             ],
             [
              0.8156862745098039,
              "rgb(245,162,122)"
             ],
             [
              0.8784313725490196,
              "rgb(246,188,153)"
             ],
             [
              0.9411764705882353,
              "rgb(247,212,187)"
             ],
             [
              1,
              "rgb(250,234,220)"
             ]
            ],
            "type": "heatmapgl"
           }
          ],
          "histogram": [
           {
            "marker": {
             "pattern": {
              "fillmode": "overlay",
              "size": 10,
              "solidity": 0.2
             }
            },
            "type": "histogram"
           }
          ],
          "histogram2d": [
           {
            "colorbar": {
             "outlinewidth": 0,
             "tickcolor": "rgb(36,36,36)",
             "ticklen": 8,
             "ticks": "outside",
             "tickwidth": 2
            },
            "colorscale": [
             [
              0,
              "rgb(2,4,25)"
             ],
             [
              0.06274509803921569,
              "rgb(24,15,41)"
             ],
             [
              0.12549019607843137,
              "rgb(47,23,57)"
             ],
             [
              0.18823529411764706,
              "rgb(71,28,72)"
             ],
             [
              0.25098039215686274,
              "rgb(97,30,82)"
             ],
             [
              0.3137254901960784,
              "rgb(123,30,89)"
             ],
             [
              0.3764705882352941,
              "rgb(150,27,91)"
             ],
             [
              0.4392156862745098,
              "rgb(177,22,88)"
             ],
             [
              0.5019607843137255,
              "rgb(203,26,79)"
             ],
             [
              0.5647058823529412,
              "rgb(223,47,67)"
             ],
             [
              0.6274509803921569,
              "rgb(236,76,61)"
             ],
             [
              0.6901960784313725,
              "rgb(242,107,73)"
             ],
             [
              0.7529411764705882,
              "rgb(244,135,95)"
             ],
             [
              0.8156862745098039,
              "rgb(245,162,122)"
             ],
             [
              0.8784313725490196,
              "rgb(246,188,153)"
             ],
             [
              0.9411764705882353,
              "rgb(247,212,187)"
             ],
             [
              1,
              "rgb(250,234,220)"
             ]
            ],
            "type": "histogram2d"
           }
          ],
          "histogram2dcontour": [
           {
            "colorbar": {
             "outlinewidth": 0,
             "tickcolor": "rgb(36,36,36)",
             "ticklen": 8,
             "ticks": "outside",
             "tickwidth": 2
            },
            "colorscale": [
             [
              0,
              "rgb(2,4,25)"
             ],
             [
              0.06274509803921569,
              "rgb(24,15,41)"
             ],
             [
              0.12549019607843137,
              "rgb(47,23,57)"
             ],
             [
              0.18823529411764706,
              "rgb(71,28,72)"
             ],
             [
              0.25098039215686274,
              "rgb(97,30,82)"
             ],
             [
              0.3137254901960784,
              "rgb(123,30,89)"
             ],
             [
              0.3764705882352941,
              "rgb(150,27,91)"
             ],
             [
              0.4392156862745098,
              "rgb(177,22,88)"
             ],
             [
              0.5019607843137255,
              "rgb(203,26,79)"
             ],
             [
              0.5647058823529412,
              "rgb(223,47,67)"
             ],
             [
              0.6274509803921569,
              "rgb(236,76,61)"
             ],
             [
              0.6901960784313725,
              "rgb(242,107,73)"
             ],
             [
              0.7529411764705882,
              "rgb(244,135,95)"
             ],
             [
              0.8156862745098039,
              "rgb(245,162,122)"
             ],
             [
              0.8784313725490196,
              "rgb(246,188,153)"
             ],
             [
              0.9411764705882353,
              "rgb(247,212,187)"
             ],
             [
              1,
              "rgb(250,234,220)"
             ]
            ],
            "type": "histogram2dcontour"
           }
          ],
          "mesh3d": [
           {
            "colorbar": {
             "outlinewidth": 0,
             "tickcolor": "rgb(36,36,36)",
             "ticklen": 8,
             "ticks": "outside",
             "tickwidth": 2
            },
            "type": "mesh3d"
           }
          ],
          "parcoords": [
           {
            "line": {
             "colorbar": {
              "outlinewidth": 0,
              "tickcolor": "rgb(36,36,36)",
              "ticklen": 8,
              "ticks": "outside",
              "tickwidth": 2
             }
            },
            "type": "parcoords"
           }
          ],
          "pie": [
           {
            "automargin": true,
            "type": "pie"
           }
          ],
          "scatter": [
           {
            "fillpattern": {
             "fillmode": "overlay",
             "size": 10,
             "solidity": 0.2
            },
            "type": "scatter"
           }
          ],
          "scatter3d": [
           {
            "line": {
             "colorbar": {
              "outlinewidth": 0,
              "tickcolor": "rgb(36,36,36)",
              "ticklen": 8,
              "ticks": "outside",
              "tickwidth": 2
             }
            },
            "marker": {
             "colorbar": {
              "outlinewidth": 0,
              "tickcolor": "rgb(36,36,36)",
              "ticklen": 8,
              "ticks": "outside",
              "tickwidth": 2
             }
            },
            "type": "scatter3d"
           }
          ],
          "scattercarpet": [
           {
            "marker": {
             "colorbar": {
              "outlinewidth": 0,
              "tickcolor": "rgb(36,36,36)",
              "ticklen": 8,
              "ticks": "outside",
              "tickwidth": 2
             }
            },
            "type": "scattercarpet"
           }
          ],
          "scattergeo": [
           {
            "marker": {
             "colorbar": {
              "outlinewidth": 0,
              "tickcolor": "rgb(36,36,36)",
              "ticklen": 8,
              "ticks": "outside",
              "tickwidth": 2
             }
            },
            "type": "scattergeo"
           }
          ],
          "scattergl": [
           {
            "marker": {
             "colorbar": {
              "outlinewidth": 0,
              "tickcolor": "rgb(36,36,36)",
              "ticklen": 8,
              "ticks": "outside",
              "tickwidth": 2
             }
            },
            "type": "scattergl"
           }
          ],
          "scattermapbox": [
           {
            "marker": {
             "colorbar": {
              "outlinewidth": 0,
              "tickcolor": "rgb(36,36,36)",
              "ticklen": 8,
              "ticks": "outside",
              "tickwidth": 2
             }
            },
            "type": "scattermapbox"
           }
          ],
          "scatterpolar": [
           {
            "marker": {
             "colorbar": {
              "outlinewidth": 0,
              "tickcolor": "rgb(36,36,36)",
              "ticklen": 8,
              "ticks": "outside",
              "tickwidth": 2
             }
            },
            "type": "scatterpolar"
           }
          ],
          "scatterpolargl": [
           {
            "marker": {
             "colorbar": {
              "outlinewidth": 0,
              "tickcolor": "rgb(36,36,36)",
              "ticklen": 8,
              "ticks": "outside",
              "tickwidth": 2
             }
            },
            "type": "scatterpolargl"
           }
          ],
          "scatterternary": [
           {
            "marker": {
             "colorbar": {
              "outlinewidth": 0,
              "tickcolor": "rgb(36,36,36)",
              "ticklen": 8,
              "ticks": "outside",
              "tickwidth": 2
             }
            },
            "type": "scatterternary"
           }
          ],
          "surface": [
           {
            "colorbar": {
             "outlinewidth": 0,
             "tickcolor": "rgb(36,36,36)",
             "ticklen": 8,
             "ticks": "outside",
             "tickwidth": 2
            },
            "colorscale": [
             [
              0,
              "rgb(2,4,25)"
             ],
             [
              0.06274509803921569,
              "rgb(24,15,41)"
             ],
             [
              0.12549019607843137,
              "rgb(47,23,57)"
             ],
             [
              0.18823529411764706,
              "rgb(71,28,72)"
             ],
             [
              0.25098039215686274,
              "rgb(97,30,82)"
             ],
             [
              0.3137254901960784,
              "rgb(123,30,89)"
             ],
             [
              0.3764705882352941,
              "rgb(150,27,91)"
             ],
             [
              0.4392156862745098,
              "rgb(177,22,88)"
             ],
             [
              0.5019607843137255,
              "rgb(203,26,79)"
             ],
             [
              0.5647058823529412,
              "rgb(223,47,67)"
             ],
             [
              0.6274509803921569,
              "rgb(236,76,61)"
             ],
             [
              0.6901960784313725,
              "rgb(242,107,73)"
             ],
             [
              0.7529411764705882,
              "rgb(244,135,95)"
             ],
             [
              0.8156862745098039,
              "rgb(245,162,122)"
             ],
             [
              0.8784313725490196,
              "rgb(246,188,153)"
             ],
             [
              0.9411764705882353,
              "rgb(247,212,187)"
             ],
             [
              1,
              "rgb(250,234,220)"
             ]
            ],
            "type": "surface"
           }
          ],
          "table": [
           {
            "cells": {
             "fill": {
              "color": "rgb(231,231,240)"
             },
             "line": {
              "color": "white"
             }
            },
            "header": {
             "fill": {
              "color": "rgb(183,183,191)"
             },
             "line": {
              "color": "white"
             }
            },
            "type": "table"
           }
          ]
         },
         "layout": {
          "annotationdefaults": {
           "arrowcolor": "rgb(67,103,167)"
          },
          "autotypenumbers": "strict",
          "coloraxis": {
           "colorbar": {
            "outlinewidth": 0,
            "tickcolor": "rgb(36,36,36)",
            "ticklen": 8,
            "ticks": "outside",
            "tickwidth": 2
           }
          },
          "colorscale": {
           "sequential": [
            [
             0,
             "rgb(2,4,25)"
            ],
            [
             0.06274509803921569,
             "rgb(24,15,41)"
            ],
            [
             0.12549019607843137,
             "rgb(47,23,57)"
            ],
            [
             0.18823529411764706,
             "rgb(71,28,72)"
            ],
            [
             0.25098039215686274,
             "rgb(97,30,82)"
            ],
            [
             0.3137254901960784,
             "rgb(123,30,89)"
            ],
            [
             0.3764705882352941,
             "rgb(150,27,91)"
            ],
            [
             0.4392156862745098,
             "rgb(177,22,88)"
            ],
            [
             0.5019607843137255,
             "rgb(203,26,79)"
            ],
            [
             0.5647058823529412,
             "rgb(223,47,67)"
            ],
            [
             0.6274509803921569,
             "rgb(236,76,61)"
            ],
            [
             0.6901960784313725,
             "rgb(242,107,73)"
            ],
            [
             0.7529411764705882,
             "rgb(244,135,95)"
            ],
            [
             0.8156862745098039,
             "rgb(245,162,122)"
            ],
            [
             0.8784313725490196,
             "rgb(246,188,153)"
            ],
            [
             0.9411764705882353,
             "rgb(247,212,187)"
            ],
            [
             1,
             "rgb(250,234,220)"
            ]
           ],
           "sequentialminus": [
            [
             0,
             "rgb(2,4,25)"
            ],
            [
             0.06274509803921569,
             "rgb(24,15,41)"
            ],
            [
             0.12549019607843137,
             "rgb(47,23,57)"
            ],
            [
             0.18823529411764706,
             "rgb(71,28,72)"
            ],
            [
             0.25098039215686274,
             "rgb(97,30,82)"
            ],
            [
             0.3137254901960784,
             "rgb(123,30,89)"
            ],
            [
             0.3764705882352941,
             "rgb(150,27,91)"
            ],
            [
             0.4392156862745098,
             "rgb(177,22,88)"
            ],
            [
             0.5019607843137255,
             "rgb(203,26,79)"
            ],
            [
             0.5647058823529412,
             "rgb(223,47,67)"
            ],
            [
             0.6274509803921569,
             "rgb(236,76,61)"
            ],
            [
             0.6901960784313725,
             "rgb(242,107,73)"
            ],
            [
             0.7529411764705882,
             "rgb(244,135,95)"
            ],
            [
             0.8156862745098039,
             "rgb(245,162,122)"
            ],
            [
             0.8784313725490196,
             "rgb(246,188,153)"
            ],
            [
             0.9411764705882353,
             "rgb(247,212,187)"
            ],
            [
             1,
             "rgb(250,234,220)"
            ]
           ]
          },
          "colorway": [
           "rgb(76,114,176)",
           "rgb(221,132,82)",
           "rgb(85,168,104)",
           "rgb(196,78,82)",
           "rgb(129,114,179)",
           "rgb(147,120,96)",
           "rgb(218,139,195)",
           "rgb(140,140,140)",
           "rgb(204,185,116)",
           "rgb(100,181,205)"
          ],
          "font": {
           "color": "rgb(36,36,36)"
          },
          "geo": {
           "bgcolor": "white",
           "lakecolor": "white",
           "landcolor": "rgb(234,234,242)",
           "showlakes": true,
           "showland": true,
           "subunitcolor": "white"
          },
          "hoverlabel": {
           "align": "left"
          },
          "hovermode": "closest",
          "paper_bgcolor": "white",
          "plot_bgcolor": "rgb(234,234,242)",
          "polar": {
           "angularaxis": {
            "gridcolor": "white",
            "linecolor": "white",
            "showgrid": true,
            "ticks": ""
           },
           "bgcolor": "rgb(234,234,242)",
           "radialaxis": {
            "gridcolor": "white",
            "linecolor": "white",
            "showgrid": true,
            "ticks": ""
           }
          },
          "scene": {
           "xaxis": {
            "backgroundcolor": "rgb(234,234,242)",
            "gridcolor": "white",
            "gridwidth": 2,
            "linecolor": "white",
            "showbackground": true,
            "showgrid": true,
            "ticks": "",
            "zerolinecolor": "white"
           },
           "yaxis": {
            "backgroundcolor": "rgb(234,234,242)",
            "gridcolor": "white",
            "gridwidth": 2,
            "linecolor": "white",
            "showbackground": true,
            "showgrid": true,
            "ticks": "",
            "zerolinecolor": "white"
           },
           "zaxis": {
            "backgroundcolor": "rgb(234,234,242)",
            "gridcolor": "white",
            "gridwidth": 2,
            "linecolor": "white",
            "showbackground": true,
            "showgrid": true,
            "ticks": "",
            "zerolinecolor": "white"
           }
          },
          "shapedefaults": {
           "fillcolor": "rgb(67,103,167)",
           "line": {
            "width": 0
           },
           "opacity": 0.5
          },
          "ternary": {
           "aaxis": {
            "gridcolor": "white",
            "linecolor": "white",
            "showgrid": true,
            "ticks": ""
           },
           "baxis": {
            "gridcolor": "white",
            "linecolor": "white",
            "showgrid": true,
            "ticks": ""
           },
           "bgcolor": "rgb(234,234,242)",
           "caxis": {
            "gridcolor": "white",
            "linecolor": "white",
            "showgrid": true,
            "ticks": ""
           }
          },
          "xaxis": {
           "automargin": true,
           "gridcolor": "white",
           "linecolor": "white",
           "showgrid": true,
           "ticks": "",
           "title": {
            "standoff": 15
           },
           "zerolinecolor": "white"
          },
          "yaxis": {
           "automargin": true,
           "gridcolor": "white",
           "linecolor": "white",
           "showgrid": true,
           "ticks": "",
           "title": {
            "standoff": 15
           },
           "zerolinecolor": "white"
          }
         }
        },
        "width": 1000
       }
      },
      "text/html": [
       "<div>                            <div id=\"566c7b1c-1730-4cc2-97d8-b2732bfaf4dd\" class=\"plotly-graph-div\" style=\"height:500px; width:1000px;\"></div>            <script type=\"text/javascript\">                require([\"plotly\"], function(Plotly) {                    window.PLOTLYENV=window.PLOTLYENV || {};                                    if (document.getElementById(\"566c7b1c-1730-4cc2-97d8-b2732bfaf4dd\")) {                    Plotly.newPlot(                        \"566c7b1c-1730-4cc2-97d8-b2732bfaf4dd\",                        [{\"marker\":{\"color\":\"#DB4CB2\"},\"mode\":\"markers\",\"name\":\"Cluster 1\",\"x\":[0.2067876422434786,-0.5035050453643413,-0.1483587015604312,-1.213797732972161,-0.8586513891682511,-0.8586513891682511,-0.1483587015604312,-1.213797732972161,-0.8586513891682511,0.2067876422434786,-1.213797732972161,-0.1483587015604312,-0.1483587015604312,0.5619339860473886,-0.5035050453643413,1.2722266736552086,-1.213797732972161,0.2067876422434786,-0.5035050453643413,0.2067876422434786,-0.8586513891682511,-1.213797732972161,-0.5035050453643413,-0.8586513891682511,-0.8586513891682511,-0.5035050453643413,-0.8586513891682511,0.5619339860473886,-1.213797732972161,-1.213797732972161,-0.1483587015604312,0.2067876422434786,0.2067876422434786,1.6273730174591186,-1.213797732972161,0.5619339860473886,-1.213797732972161,-0.1483587015604312,-1.213797732972161,0.2067876422434786,-1.213797732972161,-1.213797732972161,-1.213797732972161,0.2067876422434786,-0.5035050453643413,-0.8586513891682511,-0.8586513891682511,-0.1483587015604312,0.2067876422434786,-0.5035050453643413,-0.1483587015604312,-0.8586513891682511,-1.213797732972161,-0.5035050453643413,-0.1483587015604312,-1.213797732972161,-0.8586513891682511,-1.213797732972161,-0.8586513891682511,0.2067876422434786,-0.8586513891682511,-0.1483587015604312,1.2722266736552086,-1.213797732972161,-1.213797732972161,-0.5035050453643413,-1.213797732972161,1.2722266736552086,-1.213797732972161,-0.5035050453643413,-1.213797732972161,-0.1483587015604312,-1.213797732972161,-0.5035050453643413,-1.213797732972161,0.2067876422434786,-0.8586513891682511,-0.5035050453643413,-0.5035050453643413,0.2067876422434786,-0.1483587015604312,-0.5035050453643413,-0.1483587015604312,-1.213797732972161,-0.5035050453643413,-0.8586513891682511,-1.213797732972161,-0.8586513891682511,-1.213797732972161,-0.5035050453643413,-1.213797732972161,-0.5035050453643413,-1.213797732972161,-0.1483587015604312,-1.213797732972161,-1.213797732972161,-0.8586513891682511,-1.213797732972161,-0.1483587015604312,-0.5035050453643413,-1.213797732972161,0.2067876422434786,-0.1483587015604312,-0.5035050453643413,-1.213797732972161,-0.5035050453643413,-1.213797732972161,-1.213797732972161,-0.8586513891682511,-0.1483587015604312,-1.213797732972161,-1.213797732972161,0.5619339860473886,-0.8586513891682511,-1.213797732972161,0.2067876422434786,-1.213797732972161,-0.5035050453643413,-0.1483587015604312,0.2067876422434786,-1.213797732972161,-0.5035050453643413,-1.213797732972161,0.2067876422434786,-1.213797732972161,-1.213797732972161,-1.213797732972161,0.2067876422434786,-1.213797732972161,-1.213797732972161,-1.213797732972161,0.5619339860473886,-1.213797732972161,-0.1483587015604312,-1.213797732972161,-1.213797732972161,1.2722266736552086,-0.5035050453643413,-0.5035050453643413,0.2067876422434786,-0.5035050453643413,-0.8586513891682511,-1.213797732972161,-1.213797732972161,0.2067876422434786,1.2722266736552086,-0.1483587015604312,-0.5035050453643413,-1.213797732972161,-0.5035050453643413,-0.5035050453643413,-0.5035050453643413,0.2067876422434786,-1.213797732972161,0.2067876422434786,0.9170803298512986,-0.5035050453643413,-0.5035050453643413,-0.5035050453643413,-1.213797732972161,-1.213797732972161,-0.5035050453643413,-0.8586513891682511,-0.5035050453643413,-1.213797732972161,-1.213797732972161,-1.213797732972161,0.2067876422434786,1.2722266736552086,-1.213797732972161,-1.213797732972161,-1.213797732972161,-1.213797732972161,-0.5035050453643413,-0.8586513891682511,-1.213797732972161,-1.213797732972161,-1.213797732972161,-1.213797732972161,-0.5035050453643413,-0.5035050453643413,-1.213797732972161,-0.5035050453643413,1.9825193612630283,-1.213797732972161,0.2067876422434786,0.2067876422434786,-1.213797732972161,-1.213797732972161,-1.213797732972161,-1.213797732972161,-0.8586513891682511,-1.213797732972161,-1.213797732972161,0.2067876422434786,-1.213797732972161,0.2067876422434786,-0.8586513891682511,-1.213797732972161,-0.1483587015604312,0.2067876422434786,-0.5035050453643413,-0.1483587015604312,-0.8586513891682511,-0.8586513891682511,-1.213797732972161,-1.213797732972161,-0.1483587015604312,-1.213797732972161,-0.1483587015604312,0.2067876422434786,-0.5035050453643413,-1.213797732972161,-1.213797732972161,-1.213797732972161,-0.5035050453643413,0.2067876422434786,-1.213797732972161,-0.5035050453643413,-0.8586513891682511,-0.8586513891682511,-0.5035050453643413,0.2067876422434786,-0.8586513891682511,0.2067876422434786,-1.213797732972161,-0.5035050453643413,-1.213797732972161,-1.213797732972161,-0.5035050453643413,-0.5035050453643413,-0.1483587015604312,-0.5035050453643413,-1.213797732972161,-0.5035050453643413,0.2067876422434786,-0.5035050453643413,-1.213797732972161,-1.213797732972161,-0.1483587015604312,-1.213797732972161,-0.8586513891682511,-0.5035050453643413,-1.213797732972161,-1.213797732972161,0.2067876422434786,-0.5035050453643413,-1.213797732972161,0.2067876422434786,-0.8586513891682511,-0.5035050453643413,-0.1483587015604312,0.2067876422434786,-0.5035050453643413,0.2067876422434786,-1.213797732972161,-0.8586513891682511,-1.213797732972161,0.2067876422434786,0.2067876422434786,-0.5035050453643413,-0.1483587015604312,-0.1483587015604312,0.2067876422434786,0.2067876422434786,-1.213797732972161,-1.213797732972161,0.2067876422434786,-0.8586513891682511,-1.213797732972161,0.2067876422434786,-1.213797732972161,-0.1483587015604312,0.2067876422434786,-0.5035050453643413,-0.8586513891682511,1.9825193612630283,0.2067876422434786,0.2067876422434786,0.2067876422434786,-0.5035050453643413,0.5619339860473886,-0.1483587015604312,-0.1483587015604312,-0.1483587015604312,-1.213797732972161,-0.5035050453643413,0.5619339860473886,0.5619339860473886,-0.1483587015604312,0.2067876422434786,-0.5035050453643413,-0.1483587015604312,-0.1483587015604312,0.2067876422434786,0.2067876422434786,0.2067876422434786,0.2067876422434786,-1.213797732972161,-0.5035050453643413,0.5619339860473886,-1.213797732972161,-0.1483587015604312,0.2067876422434786,-0.5035050453643413,-1.213797732972161,-0.1483587015604312,-0.1483587015604312,-0.1483587015604312,0.5619339860473886,-0.1483587015604312,-0.1483587015604312,-0.1483587015604312,-1.213797732972161,-0.5035050453643413,-1.213797732972161,0.2067876422434786,-0.8586513891682511,-1.213797732972161,0.2067876422434786,0.2067876422434786,-0.5035050453643413,-1.213797732972161,-1.213797732972161,-0.5035050453643413,-1.213797732972161,-0.1483587015604312,-0.5035050453643413,-0.5035050453643413,-0.1483587015604312,-0.1483587015604312,0.5619339860473886,-0.1483587015604312,-0.1483587015604312,-1.213797732972161,-0.5035050453643413,-0.8586513891682511,-1.213797732972161,0.2067876422434786,0.2067876422434786,-0.1483587015604312,0.5619339860473886,0.2067876422434786,-0.5035050453643413,0.2067876422434786,-0.1483587015604312,-0.8586513891682511,0.2067876422434786,-0.8586513891682511,-0.5035050453643413,-0.5035050453643413,-1.213797732972161,-0.5035050453643413,-0.1483587015604312,-0.5035050453643413,-0.1483587015604312,0.2067876422434786,0.2067876422434786,-0.8586513891682511,0.2067876422434786,0.2067876422434786,0.2067876422434786,-1.213797732972161,-0.5035050453643413,-0.1483587015604312,-0.5035050453643413,-0.1483587015604312,-0.5035050453643413,-1.213797732972161,0.2067876422434786,0.2067876422434786,-1.213797732972161,-1.213797732972161,-1.213797732972161,0.2067876422434786,-0.5035050453643413,0.2067876422434786,-1.213797732972161,0.2067876422434786,0.2067876422434786,0.2067876422434786,0.2067876422434786,-0.1483587015604312,0.2067876422434786,-0.5035050453643413,0.2067876422434786,-0.5035050453643413,-1.213797732972161,-0.1483587015604312,-0.1483587015604312,-1.213797732972161,0.2067876422434786,-0.8586513891682511,-0.8586513891682511,-0.1483587015604312,-0.5035050453643413,-1.213797732972161,-0.1483587015604312,0.2067876422434786,-0.5035050453643413,0.5619339860473886,0.9170803298512986,-1.213797732972161,0.2067876422434786,-0.5035050453643413,-0.8586513891682511,-0.8586513891682511,-0.1483587015604312,0.5619339860473886,0.2067876422434786,-1.213797732972161,-0.5035050453643413,-0.5035050453643413,-0.1483587015604312,-0.1483587015604312,0.2067876422434786,-0.1483587015604312,-0.5035050453643413,-0.5035050453643413,-1.213797732972161,-0.8586513891682511,-0.5035050453643413,-1.213797732972161,-1.213797732972161,-0.5035050453643413,-0.5035050453643413,-1.213797732972161,0.2067876422434786,-0.1483587015604312,-0.5035050453643413,-0.5035050453643413,0.2067876422434786,-1.213797732972161,-1.213797732972161,-0.1483587015604312,-1.213797732972161,-1.213797732972161,-0.5035050453643413,-1.213797732972161,0.2067876422434786,-0.5035050453643413,-0.5035050453643413,-0.8586513891682511,0.2067876422434786,-1.213797732972161,-0.1483587015604312,-1.213797732972161,0.2067876422434786,-1.213797732972161,-0.8586513891682511,0.2067876422434786,-1.213797732972161,-1.213797732972161,-1.213797732972161,-1.213797732972161,-0.5035050453643413,-0.1483587015604312,-1.213797732972161,-1.213797732972161,-0.5035050453643413,-0.5035050453643413,-0.5035050453643413,-0.8586513891682511],\"y\":[-0.6994941595324174,-0.6994941595324174,-0.6994941595324174,-0.6994941595324174,-0.6994941595324174,-0.6994941595324174,-0.3717820834512109,-0.6994941595324174,-0.6994941595324174,-0.0440700073700043,-0.6994941595324174,-0.6994941595324174,-0.6994941595324174,-0.6994941595324174,-0.6994941595324174,0.2836420687112021,-0.6994941595324174,-0.3717820834512109,-0.3717820834512109,-0.6994941595324174,-0.6994941595324174,-0.6994941595324174,-0.6994941595324174,-0.6994941595324174,-0.6994941595324174,-0.6994941595324174,-0.6994941595324174,-0.3717820834512109,-0.6994941595324174,-0.6994941595324174,-0.6994941595324174,-0.0440700073700043,-0.3717820834512109,0.6113541447924086,-0.6994941595324174,-0.0440700073700043,-0.6994941595324174,-0.6994941595324174,-0.6994941595324174,-0.6994941595324174,-0.0440700073700043,-0.6994941595324174,-0.6994941595324174,-0.0440700073700043,-0.6994941595324174,-0.6994941595324174,-0.3717820834512109,-0.6994941595324174,-0.3717820834512109,-0.6994941595324174,-0.6994941595324174,-0.6994941595324174,-0.6994941595324174,-0.6994941595324174,-0.6994941595324174,-0.6994941595324174,-0.6994941595324174,-0.6994941595324174,-0.6994941595324174,-0.6994941595324174,-0.0440700073700043,-0.6994941595324174,-0.3717820834512109,-0.6994941595324174,-0.0440700073700043,-0.0440700073700043,-0.6994941595324174,-0.0440700073700043,-0.6994941595324174,-0.3717820834512109,-0.6994941595324174,-0.3717820834512109,-0.6994941595324174,-0.6994941595324174,-0.6994941595324174,-0.6994941595324174,-0.6994941595324174,-0.6994941595324174,-0.6994941595324174,-0.6994941595324174,-0.6994941595324174,-0.6994941595324174,-0.6994941595324174,-0.6994941595324174,-0.6994941595324174,-0.6994941595324174,-0.6994941595324174,-0.6994941595324174,-0.6994941595324174,0.2836420687112021,-0.6994941595324174,-0.6994941595324174,-0.6994941595324174,-0.6994941595324174,-0.6994941595324174,-0.3717820834512109,-0.6994941595324174,-0.6994941595324174,-0.6994941595324174,-0.6994941595324174,-0.6994941595324174,-0.6994941595324174,-0.6994941595324174,-0.6994941595324174,-0.6994941595324174,-0.6994941595324174,-0.6994941595324174,-0.6994941595324174,-0.6994941595324174,-0.6994941595324174,-0.6994941595324174,-0.6994941595324174,-0.6994941595324174,-0.6994941595324174,-0.3717820834512109,-0.6994941595324174,-0.6994941595324174,-0.6994941595324174,-0.6994941595324174,-0.6994941595324174,-0.6994941595324174,-0.6994941595324174,-0.6994941595324174,-0.6994941595324174,-0.6994941595324174,-0.6994941595324174,-0.6994941595324174,-0.6994941595324174,-0.6994941595324174,-0.6994941595324174,-0.6994941595324174,-0.6994941595324174,-0.6994941595324174,-0.6994941595324174,-0.6994941595324174,-0.6994941595324174,0.2836420687112021,-0.0440700073700043,-0.6994941595324174,-0.6994941595324174,-0.6994941595324174,-0.6994941595324174,-0.6994941595324174,-0.6994941595324174,-0.6994941595324174,0.2836420687112021,-0.6994941595324174,-0.6994941595324174,-0.3717820834512109,-0.6994941595324174,-0.6994941595324174,-0.6994941595324174,-0.6994941595324174,-0.6994941595324174,-0.6994941595324174,-0.3717820834512109,-0.6994941595324174,-0.6994941595324174,-0.6994941595324174,-0.6994941595324174,-0.6994941595324174,-0.6994941595324174,-0.6994941595324174,-0.6994941595324174,-0.6994941595324174,-0.6994941595324174,-0.6994941595324174,0.2836420687112021,-0.3717820834512109,-0.6994941595324174,-0.6994941595324174,-0.6994941595324174,-0.6994941595324174,-0.6994941595324174,-0.6994941595324174,-0.6994941595324174,-0.6994941595324174,-0.6994941595324174,-0.6994941595324174,-0.6994941595324174,-0.6994941595324174,-0.6994941595324174,-0.3717820834512109,-0.6994941595324174,-0.6994941595324174,-0.6994941595324174,-0.3717820834512109,-0.6994941595324174,-0.6994941595324174,-0.6994941595324174,-0.6994941595324174,-0.6994941595324174,-0.6994941595324174,-0.6994941595324174,-0.3717820834512109,-0.6994941595324174,-0.6994941595324174,-0.6994941595324174,-0.6994941595324174,-0.6994941595324174,-0.0440700073700043,-0.3717820834512109,0.2836420687112021,-0.6994941595324174,-0.6994941595324174,-0.6994941595324174,-0.6994941595324174,-0.0440700073700043,-0.6994941595324174,-0.6994941595324174,-0.6994941595324174,-0.6994941595324174,-0.6994941595324174,-0.6994941595324174,-0.6994941595324174,-0.6994941595324174,-0.0440700073700043,-0.6994941595324174,-0.3717820834512109,-0.6994941595324174,-0.6994941595324174,-0.0440700073700043,-0.0440700073700043,-0.6994941595324174,-0.6994941595324174,-0.6994941595324174,-0.6994941595324174,-0.6994941595324174,-0.3717820834512109,-0.6994941595324174,-0.6994941595324174,-0.6994941595324174,-0.3717820834512109,-0.3717820834512109,-0.6994941595324174,-0.0440700073700043,-0.6994941595324174,-0.3717820834512109,-0.6994941595324174,-0.3717820834512109,-0.6994941595324174,-0.0440700073700043,-0.6994941595324174,-0.6994941595324174,-0.6994941595324174,-0.6994941595324174,-0.0440700073700043,-0.6994941595324174,-0.3717820834512109,-0.0440700073700043,-0.3717820834512109,-0.0440700073700043,-0.6994941595324174,-0.6994941595324174,-0.0440700073700043,-0.6994941595324174,-0.6994941595324174,-0.0440700073700043,-0.6994941595324174,-0.6994941595324174,-0.3717820834512109,-0.6994941595324174,-0.6994941595324174,-0.6994941595324174,-0.3717820834512109,-0.6994941595324174,-0.6994941595324174,-0.6994941595324174,-0.6994941595324174,-0.6994941595324174,-0.6994941595324174,-0.6994941595324174,-0.6994941595324174,-0.6994941595324174,-0.6994941595324174,-0.0440700073700043,-0.3717820834512109,-0.6994941595324174,-0.6994941595324174,-0.6994941595324174,-0.6994941595324174,-0.6994941595324174,-0.6994941595324174,-0.6994941595324174,-0.6994941595324174,-0.6994941595324174,-0.6994941595324174,-0.6994941595324174,-0.6994941595324174,-0.6994941595324174,-0.6994941595324174,-0.6994941595324174,-0.6994941595324174,-0.6994941595324174,-0.3717820834512109,-0.6994941595324174,-0.0440700073700043,-0.6994941595324174,-0.6994941595324174,-0.6994941595324174,-0.0440700073700043,-0.6994941595324174,-0.6994941595324174,-0.6994941595324174,-0.6994941595324174,-0.6994941595324174,-0.3717820834512109,-0.6994941595324174,-0.6994941595324174,-0.6994941595324174,-0.6994941595324174,-0.6994941595324174,-0.6994941595324174,-0.6994941595324174,-0.0440700073700043,-0.6994941595324174,-0.6994941595324174,-0.6994941595324174,-0.6994941595324174,-0.6994941595324174,-0.6994941595324174,-0.6994941595324174,-0.6994941595324174,-0.6994941595324174,-0.6994941595324174,-0.6994941595324174,-0.6994941595324174,-0.6994941595324174,-0.6994941595324174,-0.6994941595324174,-0.6994941595324174,-0.6994941595324174,-0.6994941595324174,-0.3717820834512109,-0.6994941595324174,-0.6994941595324174,-0.6994941595324174,-0.6994941595324174,-0.6994941595324174,-0.6994941595324174,-0.6994941595324174,-0.6994941595324174,-0.6994941595324174,-0.6994941595324174,-0.0440700073700043,-0.6994941595324174,-0.6994941595324174,-0.6994941595324174,-0.6994941595324174,-0.6994941595324174,-0.6994941595324174,-0.6994941595324174,-0.3717820834512109,0.2836420687112021,-0.6994941595324174,-0.0440700073700043,-0.3717820834512109,-0.6994941595324174,-0.6994941595324174,-0.6994941595324174,-0.6994941595324174,-0.6994941595324174,-0.6994941595324174,-0.6994941595324174,-0.6994941595324174,-0.6994941595324174,-0.6994941595324174,-0.6994941595324174,-0.6994941595324174,-0.6994941595324174,-0.6994941595324174,-0.6994941595324174,-0.6994941595324174,-0.6994941595324174,-0.6994941595324174,-0.6994941595324174,-0.6994941595324174,-0.6994941595324174,-0.6994941595324174,-0.6994941595324174,-0.6994941595324174,-0.6994941595324174,-0.6994941595324174,-0.6994941595324174,-0.6994941595324174,-0.3717820834512109,-0.6994941595324174,-0.6994941595324174,-0.6994941595324174,-0.6994941595324174,-0.6994941595324174,-0.6994941595324174,-0.0440700073700043,-0.6994941595324174,-0.6994941595324174,-0.6994941595324174,-0.6994941595324174,-0.6994941595324174,-0.6994941595324174,-0.6994941595324174,-0.0440700073700043,-0.6994941595324174,-0.6994941595324174,-0.6994941595324174,-0.6994941595324174,-0.6994941595324174,-0.6994941595324174,-0.6994941595324174,-0.3717820834512109,-0.6994941595324174,-0.6994941595324174,-0.6994941595324174,-0.6994941595324174,-0.3717820834512109,-0.6994941595324174,-0.6994941595324174,-0.6994941595324174,-0.6994941595324174,-0.6994941595324174,-0.6994941595324174,-0.6994941595324174,-0.6994941595324174,-0.3717820834512109,-0.6994941595324174,-0.6994941595324174,-0.6994941595324174,-0.3717820834512109,-0.6994941595324174,-0.6994941595324174,-0.6994941595324174,-0.6994941595324174,-0.6994941595324174,-0.6994941595324174,-0.6994941595324174,-0.6994941595324174,-0.6994941595324174,-0.6994941595324174,-0.6994941595324174,-0.6994941595324174,-0.3717820834512109,-0.6994941595324174,-0.3717820834512109,-0.6994941595324174,-0.0440700073700043,-0.6994941595324174,-0.6994941595324174,-0.6994941595324174,-0.6994941595324174,-0.6994941595324174,-0.6994941595324174,-0.6994941595324174,-0.6994941595324174,-0.6994941595324174,-0.6994941595324174,-0.6994941595324174,-0.6994941595324174,-0.6994941595324174,-0.6994941595324174,-0.6994941595324174,-0.6994941595324174,-0.6994941595324174,-0.6994941595324174,-0.6994941595324174],\"type\":\"scatter\"},{\"marker\":{\"color\":\"#7CFC00\"},\"mode\":\"markers\",\"name\":\"Cluster 2\",\"x\":[0.2067876422434786,0.5619339860473886,1.2722266736552086,1.2722266736552086,0.9170803298512986,1.9825193612630283,0.9170803298512986,1.9825193612630283,1.9825193612630283,1.9825193612630283,0.2067876422434786,-0.8586513891682511,0.5619339860473886,1.9825193612630283,0.5619339860473886,0.2067876422434786,1.9825193612630283,-0.5035050453643413,0.9170803298512986,1.6273730174591186,1.9825193612630283,0.2067876422434786,1.9825193612630283,1.9825193612630283,1.2722266736552086,1.2722266736552086,0.2067876422434786,1.6273730174591186,1.9825193612630283,0.2067876422434786,1.2722266736552086,0.5619339860473886,1.6273730174591186,1.9825193612630283,-0.5035050453643413,0.2067876422434786,-0.5035050453643413,-0.5035050453643413,1.6273730174591186,0.9170803298512986,1.9825193612630283,1.9825193612630283,0.9170803298512986,1.9825193612630283,-1.213797732972161,0.5619339860473886,1.2722266736552086,1.9825193612630283,1.9825193612630283,-0.1483587015604312,1.9825193612630283,0.2067876422434786,0.2067876422434786,0.9170803298512986,1.2722266736552086,0.2067876422434786,1.6273730174591186,1.2722266736552086,0.9170803298512986,1.9825193612630283,0.2067876422434786,1.6273730174591186,1.9825193612630283,0.2067876422434786,1.9825193612630283,0.5619339860473886,1.2722266736552086,0.2067876422434786,0.2067876422434786,0.2067876422434786,0.2067876422434786,1.2722266736552086,-1.213797732972161,1.9825193612630283,0.2067876422434786,1.9825193612630283,0.9170803298512986,1.2722266736552086,1.6273730174591186,1.9825193612630283,0.2067876422434786,1.9825193612630283,1.2722266736552086,1.2722266736552086,1.9825193612630283,1.9825193612630283,1.2722266736552086,0.5619339860473886,1.9825193612630283,0.9170803298512986,1.9825193612630283,1.9825193612630283,1.2722266736552086,1.9825193612630283,0.9170803298512986,0.5619339860473886,1.9825193612630283,1.9825193612630283,1.6273730174591186,1.2722266736552086,1.9825193612630283,1.2722266736552086,1.9825193612630283,0.5619339860473886,0.5619339860473886,1.6273730174591186,0.2067876422434786,0.2067876422434786,1.9825193612630283,0.2067876422434786,1.2722266736552086,1.9825193612630283,0.9170803298512986,1.9825193612630283,-0.5035050453643413,1.9825193612630283,1.2722266736552086,-0.5035050453643413,1.9825193612630283,-1.213797732972161,1.9825193612630283,0.9170803298512986,1.2722266736552086,1.9825193612630283,0.5619339860473886,0.2067876422434786,1.2722266736552086,1.9825193612630283,0.2067876422434786,0.2067876422434786,1.6273730174591186,1.2722266736552086,1.9825193612630283,1.2722266736552086,1.9825193612630283,0.9170803298512986,1.2722266736552086,-0.1483587015604312,0.2067876422434786,0.5619339860473886,-0.1483587015604312,0.9170803298512986,0.2067876422434786,1.2722266736552086,1.9825193612630283,1.9825193612630283,0.2067876422434786,1.2722266736552086,0.5619339860473886,1.2722266736552086,1.9825193612630283,0.9170803298512986,-0.5035050453643413,-0.1483587015604312,-0.5035050453643413,-0.8586513891682511,1.2722266736552086,1.2722266736552086,1.9825193612630283,0.5619339860473886,-0.5035050453643413,0.5619339860473886,0.2067876422434786,1.9825193612630283,0.9170803298512986,1.9825193612630283,-0.5035050453643413,1.9825193612630283,1.2722266736552086,1.2722266736552086,1.9825193612630283,1.6273730174591186,1.2722266736552086,0.5619339860473886,1.9825193612630283,1.9825193612630283,1.9825193612630283,0.2067876422434786,-0.1483587015604312,1.9825193612630283,1.2722266736552086,1.9825193612630283,1.9825193612630283,0.5619339860473886,-0.1483587015604312,1.6273730174591186,1.2722266736552086,1.9825193612630283,-0.5035050453643413,0.2067876422434786,0.2067876422434786,1.2722266736552086,0.5619339860473886,-0.1483587015604312,-0.1483587015604312,1.9825193612630283,0.9170803298512986,0.9170803298512986,0.5619339860473886,0.9170803298512986,0.2067876422434786,1.2722266736552086,1.9825193612630283,1.2722266736552086,0.9170803298512986,1.9825193612630283,0.2067876422434786,0.5619339860473886,1.2722266736552086,1.6273730174591186,-0.1483587015604312,-0.8586513891682511,1.9825193612630283,-0.1483587015604312,0.2067876422434786,0.2067876422434786,1.9825193612630283,0.2067876422434786,1.9825193612630283,0.2067876422434786,1.2722266736552086,-0.1483587015604312,1.2722266736552086,1.9825193612630283,0.2067876422434786,0.2067876422434786,0.9170803298512986,0.2067876422434786,0.2067876422434786,-0.5035050453643413,1.9825193612630283,0.2067876422434786,0.2067876422434786,0.2067876422434786,-0.1483587015604312,-0.1483587015604312],\"y\":[0.2836420687112021,1.5944903730360285,2.249914525198441,1.2667782969548216,0.2836420687112021,1.2667782969548216,-0.0440700073700043,0.6113541447924086,1.2667782969548216,2.249914525198441,0.2836420687112021,0.6113541447924086,0.9390662208736152,0.2836420687112021,2.249914525198441,0.9390662208736152,2.249914525198441,1.2667782969548216,1.5944903730360285,0.6113541447924086,-0.0440700073700043,0.6113541447924086,0.6113541447924086,0.9390662208736152,2.249914525198441,-0.3717820834512109,-0.0440700073700043,2.249914525198441,0.2836420687112021,-0.0440700073700043,-0.0440700073700043,2.249914525198441,0.2836420687112021,0.9390662208736152,0.6113541447924086,2.249914525198441,-0.0440700073700043,0.9390662208736152,0.9390662208736152,0.6113541447924086,-0.0440700073700043,2.249914525198441,-0.0440700073700043,2.249914525198441,0.9390662208736152,0.6113541447924086,0.9390662208736152,-0.0440700073700043,2.249914525198441,0.6113541447924086,2.249914525198441,-0.0440700073700043,0.2836420687112021,0.6113541447924086,-0.0440700073700043,2.249914525198441,0.6113541447924086,1.5944903730360285,-0.3717820834512109,2.249914525198441,0.6113541447924086,1.9222024491172347,1.2667782969548216,0.9390662208736152,1.5944903730360285,2.249914525198441,0.9390662208736152,1.5944903730360285,2.249914525198441,-0.0440700073700043,1.5944903730360285,1.2667782969548216,0.6113541447924086,0.6113541447924086,1.5944903730360285,2.249914525198441,0.6113541447924086,0.2836420687112021,1.2667782969548216,1.5944903730360285,2.249914525198441,2.249914525198441,2.249914525198441,2.249914525198441,2.249914525198441,2.249914525198441,1.2667782969548216,2.249914525198441,0.9390662208736152,0.6113541447924086,0.6113541447924086,0.6113541447924086,1.9222024491172347,2.249914525198441,0.2836420687112021,1.5944903730360285,0.2836420687112021,1.5944903730360285,1.5944903730360285,2.249914525198441,0.2836420687112021,2.249914525198441,0.2836420687112021,-0.0440700073700043,2.249914525198441,2.249914525198441,0.9390662208736152,1.2667782969548216,0.6113541447924086,2.249914525198441,1.5944903730360285,0.2836420687112021,1.9222024491172347,2.249914525198441,-0.0440700073700043,1.5944903730360285,0.2836420687112021,-0.0440700073700043,0.6113541447924086,0.2836420687112021,0.2836420687112021,0.2836420687112021,2.249914525198441,2.249914525198441,-0.6994941595324174,0.9390662208736152,1.5944903730360285,0.2836420687112021,0.6113541447924086,-0.0440700073700043,-0.6994941595324174,0.2836420687112021,2.249914525198441,-0.0440700073700043,1.5944903730360285,1.5944903730360285,0.9390662208736152,0.9390662208736152,0.6113541447924086,1.5944903730360285,0.2836420687112021,0.9390662208736152,0.2836420687112021,2.249914525198441,0.2836420687112021,0.2836420687112021,0.2836420687112021,0.9390662208736152,0.6113541447924086,0.6113541447924086,-0.0440700073700043,0.9390662208736152,0.2836420687112021,-0.3717820834512109,0.2836420687112021,1.2667782969548216,2.249914525198441,2.249914525198441,-0.0440700073700043,2.249914525198441,2.249914525198441,2.249914525198441,1.5944903730360285,0.9390662208736152,0.9390662208736152,1.5944903730360285,2.249914525198441,2.249914525198441,0.6113541447924086,1.2667782969548216,2.249914525198441,2.249914525198441,1.2667782969548216,1.9222024491172347,1.5944903730360285,2.249914525198441,0.2836420687112021,1.2667782969548216,0.6113541447924086,0.9390662208736152,1.5944903730360285,1.9222024491172347,0.9390662208736152,0.9390662208736152,1.5944903730360285,2.249914525198441,1.2667782969548216,2.249914525198441,0.9390662208736152,1.5944903730360285,2.249914525198441,2.249914525198441,0.9390662208736152,2.249914525198441,1.2667782969548216,0.2836420687112021,0.6113541447924086,0.2836420687112021,2.249914525198441,1.5944903730360285,1.2667782969548216,0.2836420687112021,2.249914525198441,2.249914525198441,0.9390662208736152,1.9222024491172347,1.2667782969548216,2.249914525198441,2.249914525198441,1.5944903730360285,2.249914525198441,0.6113541447924086,-0.0440700073700043,1.5944903730360285,0.2836420687112021,-0.0440700073700043,0.6113541447924086,2.249914525198441,0.2836420687112021,2.249914525198441,2.249914525198441,0.9390662208736152,1.2667782969548216,2.249914525198441,2.249914525198441,0.2836420687112021,1.5944903730360285,1.2667782969548216,2.249914525198441,2.249914525198441,2.249914525198441,2.249914525198441,2.249914525198441,2.249914525198441,1.5944903730360285,1.5944903730360285],\"type\":\"scatter\"},{\"marker\":{\"color\":\"#7D3AC1\"},\"mode\":\"markers\",\"name\":\"cluster 3\",\"x\":[],\"y\":[],\"type\":\"scatter\"},{\"marker\":{\"color\":\"black\",\"size\":13,\"symbol\":4},\"mode\":\"markers\",\"name\":\"Centroids\",\"x\":[-0.497368607458439,0.9757697680222862],\"y\":[-0.6081877711642182,1.1931819408857383],\"type\":\"scatter\"}],                        {\"template\":{\"data\":{\"barpolar\":[{\"marker\":{\"line\":{\"color\":\"rgb(234,234,242)\",\"width\":0.5},\"pattern\":{\"fillmode\":\"overlay\",\"size\":10,\"solidity\":0.2}},\"type\":\"barpolar\"}],\"bar\":[{\"error_x\":{\"color\":\"rgb(36,36,36)\"},\"error_y\":{\"color\":\"rgb(36,36,36)\"},\"marker\":{\"line\":{\"color\":\"rgb(234,234,242)\",\"width\":0.5},\"pattern\":{\"fillmode\":\"overlay\",\"size\":10,\"solidity\":0.2}},\"type\":\"bar\"}],\"carpet\":[{\"aaxis\":{\"endlinecolor\":\"rgb(36,36,36)\",\"gridcolor\":\"white\",\"linecolor\":\"white\",\"minorgridcolor\":\"white\",\"startlinecolor\":\"rgb(36,36,36)\"},\"baxis\":{\"endlinecolor\":\"rgb(36,36,36)\",\"gridcolor\":\"white\",\"linecolor\":\"white\",\"minorgridcolor\":\"white\",\"startlinecolor\":\"rgb(36,36,36)\"},\"type\":\"carpet\"}],\"choropleth\":[{\"colorbar\":{\"outlinewidth\":0,\"tickcolor\":\"rgb(36,36,36)\",\"ticklen\":8,\"ticks\":\"outside\",\"tickwidth\":2},\"type\":\"choropleth\"}],\"contourcarpet\":[{\"colorbar\":{\"outlinewidth\":0,\"tickcolor\":\"rgb(36,36,36)\",\"ticklen\":8,\"ticks\":\"outside\",\"tickwidth\":2},\"type\":\"contourcarpet\"}],\"contour\":[{\"colorbar\":{\"outlinewidth\":0,\"tickcolor\":\"rgb(36,36,36)\",\"ticklen\":8,\"ticks\":\"outside\",\"tickwidth\":2},\"colorscale\":[[0.0,\"rgb(2,4,25)\"],[0.06274509803921569,\"rgb(24,15,41)\"],[0.12549019607843137,\"rgb(47,23,57)\"],[0.18823529411764706,\"rgb(71,28,72)\"],[0.25098039215686274,\"rgb(97,30,82)\"],[0.3137254901960784,\"rgb(123,30,89)\"],[0.3764705882352941,\"rgb(150,27,91)\"],[0.4392156862745098,\"rgb(177,22,88)\"],[0.5019607843137255,\"rgb(203,26,79)\"],[0.5647058823529412,\"rgb(223,47,67)\"],[0.6274509803921569,\"rgb(236,76,61)\"],[0.6901960784313725,\"rgb(242,107,73)\"],[0.7529411764705882,\"rgb(244,135,95)\"],[0.8156862745098039,\"rgb(245,162,122)\"],[0.8784313725490196,\"rgb(246,188,153)\"],[0.9411764705882353,\"rgb(247,212,187)\"],[1.0,\"rgb(250,234,220)\"]],\"type\":\"contour\"}],\"heatmapgl\":[{\"colorbar\":{\"outlinewidth\":0,\"tickcolor\":\"rgb(36,36,36)\",\"ticklen\":8,\"ticks\":\"outside\",\"tickwidth\":2},\"colorscale\":[[0.0,\"rgb(2,4,25)\"],[0.06274509803921569,\"rgb(24,15,41)\"],[0.12549019607843137,\"rgb(47,23,57)\"],[0.18823529411764706,\"rgb(71,28,72)\"],[0.25098039215686274,\"rgb(97,30,82)\"],[0.3137254901960784,\"rgb(123,30,89)\"],[0.3764705882352941,\"rgb(150,27,91)\"],[0.4392156862745098,\"rgb(177,22,88)\"],[0.5019607843137255,\"rgb(203,26,79)\"],[0.5647058823529412,\"rgb(223,47,67)\"],[0.6274509803921569,\"rgb(236,76,61)\"],[0.6901960784313725,\"rgb(242,107,73)\"],[0.7529411764705882,\"rgb(244,135,95)\"],[0.8156862745098039,\"rgb(245,162,122)\"],[0.8784313725490196,\"rgb(246,188,153)\"],[0.9411764705882353,\"rgb(247,212,187)\"],[1.0,\"rgb(250,234,220)\"]],\"type\":\"heatmapgl\"}],\"heatmap\":[{\"colorbar\":{\"outlinewidth\":0,\"tickcolor\":\"rgb(36,36,36)\",\"ticklen\":8,\"ticks\":\"outside\",\"tickwidth\":2},\"colorscale\":[[0.0,\"rgb(2,4,25)\"],[0.06274509803921569,\"rgb(24,15,41)\"],[0.12549019607843137,\"rgb(47,23,57)\"],[0.18823529411764706,\"rgb(71,28,72)\"],[0.25098039215686274,\"rgb(97,30,82)\"],[0.3137254901960784,\"rgb(123,30,89)\"],[0.3764705882352941,\"rgb(150,27,91)\"],[0.4392156862745098,\"rgb(177,22,88)\"],[0.5019607843137255,\"rgb(203,26,79)\"],[0.5647058823529412,\"rgb(223,47,67)\"],[0.6274509803921569,\"rgb(236,76,61)\"],[0.6901960784313725,\"rgb(242,107,73)\"],[0.7529411764705882,\"rgb(244,135,95)\"],[0.8156862745098039,\"rgb(245,162,122)\"],[0.8784313725490196,\"rgb(246,188,153)\"],[0.9411764705882353,\"rgb(247,212,187)\"],[1.0,\"rgb(250,234,220)\"]],\"type\":\"heatmap\"}],\"histogram2dcontour\":[{\"colorbar\":{\"outlinewidth\":0,\"tickcolor\":\"rgb(36,36,36)\",\"ticklen\":8,\"ticks\":\"outside\",\"tickwidth\":2},\"colorscale\":[[0.0,\"rgb(2,4,25)\"],[0.06274509803921569,\"rgb(24,15,41)\"],[0.12549019607843137,\"rgb(47,23,57)\"],[0.18823529411764706,\"rgb(71,28,72)\"],[0.25098039215686274,\"rgb(97,30,82)\"],[0.3137254901960784,\"rgb(123,30,89)\"],[0.3764705882352941,\"rgb(150,27,91)\"],[0.4392156862745098,\"rgb(177,22,88)\"],[0.5019607843137255,\"rgb(203,26,79)\"],[0.5647058823529412,\"rgb(223,47,67)\"],[0.6274509803921569,\"rgb(236,76,61)\"],[0.6901960784313725,\"rgb(242,107,73)\"],[0.7529411764705882,\"rgb(244,135,95)\"],[0.8156862745098039,\"rgb(245,162,122)\"],[0.8784313725490196,\"rgb(246,188,153)\"],[0.9411764705882353,\"rgb(247,212,187)\"],[1.0,\"rgb(250,234,220)\"]],\"type\":\"histogram2dcontour\"}],\"histogram2d\":[{\"colorbar\":{\"outlinewidth\":0,\"tickcolor\":\"rgb(36,36,36)\",\"ticklen\":8,\"ticks\":\"outside\",\"tickwidth\":2},\"colorscale\":[[0.0,\"rgb(2,4,25)\"],[0.06274509803921569,\"rgb(24,15,41)\"],[0.12549019607843137,\"rgb(47,23,57)\"],[0.18823529411764706,\"rgb(71,28,72)\"],[0.25098039215686274,\"rgb(97,30,82)\"],[0.3137254901960784,\"rgb(123,30,89)\"],[0.3764705882352941,\"rgb(150,27,91)\"],[0.4392156862745098,\"rgb(177,22,88)\"],[0.5019607843137255,\"rgb(203,26,79)\"],[0.5647058823529412,\"rgb(223,47,67)\"],[0.6274509803921569,\"rgb(236,76,61)\"],[0.6901960784313725,\"rgb(242,107,73)\"],[0.7529411764705882,\"rgb(244,135,95)\"],[0.8156862745098039,\"rgb(245,162,122)\"],[0.8784313725490196,\"rgb(246,188,153)\"],[0.9411764705882353,\"rgb(247,212,187)\"],[1.0,\"rgb(250,234,220)\"]],\"type\":\"histogram2d\"}],\"histogram\":[{\"marker\":{\"pattern\":{\"fillmode\":\"overlay\",\"size\":10,\"solidity\":0.2}},\"type\":\"histogram\"}],\"mesh3d\":[{\"colorbar\":{\"outlinewidth\":0,\"tickcolor\":\"rgb(36,36,36)\",\"ticklen\":8,\"ticks\":\"outside\",\"tickwidth\":2},\"type\":\"mesh3d\"}],\"parcoords\":[{\"line\":{\"colorbar\":{\"outlinewidth\":0,\"tickcolor\":\"rgb(36,36,36)\",\"ticklen\":8,\"ticks\":\"outside\",\"tickwidth\":2}},\"type\":\"parcoords\"}],\"pie\":[{\"automargin\":true,\"type\":\"pie\"}],\"scatter3d\":[{\"line\":{\"colorbar\":{\"outlinewidth\":0,\"tickcolor\":\"rgb(36,36,36)\",\"ticklen\":8,\"ticks\":\"outside\",\"tickwidth\":2}},\"marker\":{\"colorbar\":{\"outlinewidth\":0,\"tickcolor\":\"rgb(36,36,36)\",\"ticklen\":8,\"ticks\":\"outside\",\"tickwidth\":2}},\"type\":\"scatter3d\"}],\"scattercarpet\":[{\"marker\":{\"colorbar\":{\"outlinewidth\":0,\"tickcolor\":\"rgb(36,36,36)\",\"ticklen\":8,\"ticks\":\"outside\",\"tickwidth\":2}},\"type\":\"scattercarpet\"}],\"scattergeo\":[{\"marker\":{\"colorbar\":{\"outlinewidth\":0,\"tickcolor\":\"rgb(36,36,36)\",\"ticklen\":8,\"ticks\":\"outside\",\"tickwidth\":2}},\"type\":\"scattergeo\"}],\"scattergl\":[{\"marker\":{\"colorbar\":{\"outlinewidth\":0,\"tickcolor\":\"rgb(36,36,36)\",\"ticklen\":8,\"ticks\":\"outside\",\"tickwidth\":2}},\"type\":\"scattergl\"}],\"scattermapbox\":[{\"marker\":{\"colorbar\":{\"outlinewidth\":0,\"tickcolor\":\"rgb(36,36,36)\",\"ticklen\":8,\"ticks\":\"outside\",\"tickwidth\":2}},\"type\":\"scattermapbox\"}],\"scatterpolargl\":[{\"marker\":{\"colorbar\":{\"outlinewidth\":0,\"tickcolor\":\"rgb(36,36,36)\",\"ticklen\":8,\"ticks\":\"outside\",\"tickwidth\":2}},\"type\":\"scatterpolargl\"}],\"scatterpolar\":[{\"marker\":{\"colorbar\":{\"outlinewidth\":0,\"tickcolor\":\"rgb(36,36,36)\",\"ticklen\":8,\"ticks\":\"outside\",\"tickwidth\":2}},\"type\":\"scatterpolar\"}],\"scatter\":[{\"fillpattern\":{\"fillmode\":\"overlay\",\"size\":10,\"solidity\":0.2},\"type\":\"scatter\"}],\"scatterternary\":[{\"marker\":{\"colorbar\":{\"outlinewidth\":0,\"tickcolor\":\"rgb(36,36,36)\",\"ticklen\":8,\"ticks\":\"outside\",\"tickwidth\":2}},\"type\":\"scatterternary\"}],\"surface\":[{\"colorbar\":{\"outlinewidth\":0,\"tickcolor\":\"rgb(36,36,36)\",\"ticklen\":8,\"ticks\":\"outside\",\"tickwidth\":2},\"colorscale\":[[0.0,\"rgb(2,4,25)\"],[0.06274509803921569,\"rgb(24,15,41)\"],[0.12549019607843137,\"rgb(47,23,57)\"],[0.18823529411764706,\"rgb(71,28,72)\"],[0.25098039215686274,\"rgb(97,30,82)\"],[0.3137254901960784,\"rgb(123,30,89)\"],[0.3764705882352941,\"rgb(150,27,91)\"],[0.4392156862745098,\"rgb(177,22,88)\"],[0.5019607843137255,\"rgb(203,26,79)\"],[0.5647058823529412,\"rgb(223,47,67)\"],[0.6274509803921569,\"rgb(236,76,61)\"],[0.6901960784313725,\"rgb(242,107,73)\"],[0.7529411764705882,\"rgb(244,135,95)\"],[0.8156862745098039,\"rgb(245,162,122)\"],[0.8784313725490196,\"rgb(246,188,153)\"],[0.9411764705882353,\"rgb(247,212,187)\"],[1.0,\"rgb(250,234,220)\"]],\"type\":\"surface\"}],\"table\":[{\"cells\":{\"fill\":{\"color\":\"rgb(231,231,240)\"},\"line\":{\"color\":\"white\"}},\"header\":{\"fill\":{\"color\":\"rgb(183,183,191)\"},\"line\":{\"color\":\"white\"}},\"type\":\"table\"}]},\"layout\":{\"annotationdefaults\":{\"arrowcolor\":\"rgb(67,103,167)\"},\"autotypenumbers\":\"strict\",\"coloraxis\":{\"colorbar\":{\"outlinewidth\":0,\"tickcolor\":\"rgb(36,36,36)\",\"ticklen\":8,\"ticks\":\"outside\",\"tickwidth\":2}},\"colorscale\":{\"sequential\":[[0.0,\"rgb(2,4,25)\"],[0.06274509803921569,\"rgb(24,15,41)\"],[0.12549019607843137,\"rgb(47,23,57)\"],[0.18823529411764706,\"rgb(71,28,72)\"],[0.25098039215686274,\"rgb(97,30,82)\"],[0.3137254901960784,\"rgb(123,30,89)\"],[0.3764705882352941,\"rgb(150,27,91)\"],[0.4392156862745098,\"rgb(177,22,88)\"],[0.5019607843137255,\"rgb(203,26,79)\"],[0.5647058823529412,\"rgb(223,47,67)\"],[0.6274509803921569,\"rgb(236,76,61)\"],[0.6901960784313725,\"rgb(242,107,73)\"],[0.7529411764705882,\"rgb(244,135,95)\"],[0.8156862745098039,\"rgb(245,162,122)\"],[0.8784313725490196,\"rgb(246,188,153)\"],[0.9411764705882353,\"rgb(247,212,187)\"],[1.0,\"rgb(250,234,220)\"]],\"sequentialminus\":[[0.0,\"rgb(2,4,25)\"],[0.06274509803921569,\"rgb(24,15,41)\"],[0.12549019607843137,\"rgb(47,23,57)\"],[0.18823529411764706,\"rgb(71,28,72)\"],[0.25098039215686274,\"rgb(97,30,82)\"],[0.3137254901960784,\"rgb(123,30,89)\"],[0.3764705882352941,\"rgb(150,27,91)\"],[0.4392156862745098,\"rgb(177,22,88)\"],[0.5019607843137255,\"rgb(203,26,79)\"],[0.5647058823529412,\"rgb(223,47,67)\"],[0.6274509803921569,\"rgb(236,76,61)\"],[0.6901960784313725,\"rgb(242,107,73)\"],[0.7529411764705882,\"rgb(244,135,95)\"],[0.8156862745098039,\"rgb(245,162,122)\"],[0.8784313725490196,\"rgb(246,188,153)\"],[0.9411764705882353,\"rgb(247,212,187)\"],[1.0,\"rgb(250,234,220)\"]]},\"colorway\":[\"rgb(76,114,176)\",\"rgb(221,132,82)\",\"rgb(85,168,104)\",\"rgb(196,78,82)\",\"rgb(129,114,179)\",\"rgb(147,120,96)\",\"rgb(218,139,195)\",\"rgb(140,140,140)\",\"rgb(204,185,116)\",\"rgb(100,181,205)\"],\"font\":{\"color\":\"rgb(36,36,36)\"},\"geo\":{\"bgcolor\":\"white\",\"lakecolor\":\"white\",\"landcolor\":\"rgb(234,234,242)\",\"showlakes\":true,\"showland\":true,\"subunitcolor\":\"white\"},\"hoverlabel\":{\"align\":\"left\"},\"hovermode\":\"closest\",\"paper_bgcolor\":\"white\",\"plot_bgcolor\":\"rgb(234,234,242)\",\"polar\":{\"angularaxis\":{\"gridcolor\":\"white\",\"linecolor\":\"white\",\"showgrid\":true,\"ticks\":\"\"},\"bgcolor\":\"rgb(234,234,242)\",\"radialaxis\":{\"gridcolor\":\"white\",\"linecolor\":\"white\",\"showgrid\":true,\"ticks\":\"\"}},\"scene\":{\"xaxis\":{\"backgroundcolor\":\"rgb(234,234,242)\",\"gridcolor\":\"white\",\"gridwidth\":2,\"linecolor\":\"white\",\"showbackground\":true,\"showgrid\":true,\"ticks\":\"\",\"zerolinecolor\":\"white\"},\"yaxis\":{\"backgroundcolor\":\"rgb(234,234,242)\",\"gridcolor\":\"white\",\"gridwidth\":2,\"linecolor\":\"white\",\"showbackground\":true,\"showgrid\":true,\"ticks\":\"\",\"zerolinecolor\":\"white\"},\"zaxis\":{\"backgroundcolor\":\"rgb(234,234,242)\",\"gridcolor\":\"white\",\"gridwidth\":2,\"linecolor\":\"white\",\"showbackground\":true,\"showgrid\":true,\"ticks\":\"\",\"zerolinecolor\":\"white\"}},\"shapedefaults\":{\"fillcolor\":\"rgb(67,103,167)\",\"line\":{\"width\":0},\"opacity\":0.5},\"ternary\":{\"aaxis\":{\"gridcolor\":\"white\",\"linecolor\":\"white\",\"showgrid\":true,\"ticks\":\"\"},\"baxis\":{\"gridcolor\":\"white\",\"linecolor\":\"white\",\"showgrid\":true,\"ticks\":\"\"},\"bgcolor\":\"rgb(234,234,242)\",\"caxis\":{\"gridcolor\":\"white\",\"linecolor\":\"white\",\"showgrid\":true,\"ticks\":\"\"}},\"xaxis\":{\"automargin\":true,\"gridcolor\":\"white\",\"linecolor\":\"white\",\"showgrid\":true,\"ticks\":\"\",\"title\":{\"standoff\":15},\"zerolinecolor\":\"white\"},\"yaxis\":{\"automargin\":true,\"gridcolor\":\"white\",\"linecolor\":\"white\",\"showgrid\":true,\"ticks\":\"\",\"title\":{\"standoff\":15},\"zerolinecolor\":\"white\"}}},\"width\":1000,\"height\":500},                        {\"responsive\": true}                    ).then(function(){\n",
       "                            \n",
       "var gd = document.getElementById('566c7b1c-1730-4cc2-97d8-b2732bfaf4dd');\n",
       "var x = new MutationObserver(function (mutations, observer) {{\n",
       "        var display = window.getComputedStyle(gd).display;\n",
       "        if (!display || display === 'none') {{\n",
       "            console.log([gd, 'removed!']);\n",
       "            Plotly.purge(gd);\n",
       "            observer.disconnect();\n",
       "        }}\n",
       "}});\n",
       "\n",
       "// Listen for the removal of the full notebook cells\n",
       "var notebookContainer = gd.closest('#notebook-container');\n",
       "if (notebookContainer) {{\n",
       "    x.observe(notebookContainer, {childList: true});\n",
       "}}\n",
       "\n",
       "// Listen for the clearing of the current output cell\n",
       "var outputEl = gd.closest('.output');\n",
       "if (outputEl) {{\n",
       "    x.observe(outputEl, {childList: true});\n",
       "}}\n",
       "\n",
       "                        })                };                });            </script>        </div>"
      ]
     },
     "metadata": {},
     "output_type": "display_data"
    }
   ],
   "source": [
    "# Evaluation\n",
    "fig = go.Figure()\n",
    "fig.add_trace(go.Scatter(\n",
    "    x=X[points == 0, 0], y=X[points == 0, 1],\n",
    "    mode='markers',marker_color='#DB4CB2',name='Cluster 1'\n",
    "))\n",
    "\n",
    "fig.add_trace(go.Scatter(\n",
    "    x=X[points == 1, 0], y=X[points == 1, 1],\n",
    "    mode='markers',marker_color='#7CFC00',name='Cluster 2'\n",
    "))\n",
    "\n",
    "fig.add_trace(go.Scatter(\n",
    "    x=X[points == 2, 0], y=X[points == 2, 1],\n",
    "    mode='markers',marker_color='#7D3AC1',name='cluster 3'\n",
    "))\n",
    "\n",
    "fig.add_trace(go.Scatter(\n",
    "    x=centroids[:, 0], y=centroids[:,1],\n",
    "    mode='markers',marker_color='black',marker_symbol=4,marker_size=13,name='Centroids'\n",
    "))\n",
    "fig.update_layout(template='seaborn',width=1000, height=500,)"
   ]
  },
  {
   "cell_type": "code",
   "execution_count": null,
   "id": "46fa5d22",
   "metadata": {},
   "outputs": [],
   "source": []
  },
  {
   "cell_type": "code",
   "execution_count": null,
   "id": "7673168c",
   "metadata": {},
   "outputs": [],
   "source": []
  }
 ],
 "metadata": {
  "kernelspec": {
   "display_name": "Python 3 (ipykernel)",
   "language": "python",
   "name": "python3"
  },
  "language_info": {
   "codemirror_mode": {
    "name": "ipython",
    "version": 3
   },
   "file_extension": ".py",
   "mimetype": "text/x-python",
   "name": "python",
   "nbconvert_exporter": "python",
   "pygments_lexer": "ipython3",
   "version": "3.9.12"
  }
 },
 "nbformat": 4,
 "nbformat_minor": 5
}
